{
 "cells": [
  {
   "cell_type": "markdown",
   "id": "686a3132-3700-4af5-a2a0-da918b7eeb9c",
   "metadata": {},
   "source": [
    "# Simple Regressors no groupkfold\n",
    "Including the following: Simple Bias, Simple Linear, Ridge, and Lasso Regression"
   ]
  },
  {
   "cell_type": "code",
   "execution_count": 1,
   "id": "4c7dfa23-7923-4a4a-ad53-be0b0994b109",
   "metadata": {},
   "outputs": [],
   "source": [
    "import numpy as np\n",
    "import pandas as pd\n",
    "import matplotlib.pyplot as plt\n",
    "from sklearn.preprocessing import StandardScaler\n",
    "from sklearn.model_selection import train_test_split, GridSearchCV, GroupKFold\n",
    "from sklearn.linear_model import LinearRegression, Ridge, RidgeCV, Lasso, LassoCV\n",
    "from sklearn.metrics import r2_score, mean_squared_error"
   ]
  },
  {
   "cell_type": "code",
   "execution_count": 2,
   "id": "b37581ba-2c2f-4f3e-9f63-d3647087ccd7",
   "metadata": {},
   "outputs": [
    {
     "name": "stdout",
     "output_type": "stream",
     "text": [
      "(813, 32)\n"
     ]
    },
    {
     "data": {
      "text/html": [
       "<div>\n",
       "<style scoped>\n",
       "    .dataframe tbody tr th:only-of-type {\n",
       "        vertical-align: middle;\n",
       "    }\n",
       "\n",
       "    .dataframe tbody tr th {\n",
       "        vertical-align: top;\n",
       "    }\n",
       "\n",
       "    .dataframe thead th {\n",
       "        text-align: right;\n",
       "    }\n",
       "</style>\n",
       "<table border=\"1\" class=\"dataframe\">\n",
       "  <thead>\n",
       "    <tr style=\"text-align: right;\">\n",
       "      <th></th>\n",
       "      <th>agricultural_land%</th>\n",
       "      <th>forest_land%</th>\n",
       "      <th>land_area</th>\n",
       "      <th>trade_in_services%</th>\n",
       "      <th>control_of_corruption_estimate</th>\n",
       "      <th>access_to_electricity%</th>\n",
       "      <th>renewvable_energy_consumption%</th>\n",
       "      <th>CO2_emisions</th>\n",
       "      <th>other_greenhouse_emisions</th>\n",
       "      <th>population_density</th>\n",
       "      <th>...</th>\n",
       "      <th>regulatory_quality_estimate</th>\n",
       "      <th>government_expenditure_on_education%</th>\n",
       "      <th>government_health_expenditure%</th>\n",
       "      <th>birth_rate</th>\n",
       "      <th>death_rate</th>\n",
       "      <th>life_expectancy_at_birth</th>\n",
       "      <th>population</th>\n",
       "      <th>rural_population</th>\n",
       "      <th>voice_and_accountability_estimate</th>\n",
       "      <th>intentional_homicides</th>\n",
       "    </tr>\n",
       "  </thead>\n",
       "  <tbody>\n",
       "    <tr>\n",
       "      <th>0</th>\n",
       "      <td>-0.085836</td>\n",
       "      <td>-0.152721</td>\n",
       "      <td>-0.399383</td>\n",
       "      <td>0.246248</td>\n",
       "      <td>-0.858644</td>\n",
       "      <td>0.383715</td>\n",
       "      <td>0.255218</td>\n",
       "      <td>-0.282704</td>\n",
       "      <td>-0.299997</td>\n",
       "      <td>-0.124084</td>\n",
       "      <td>...</td>\n",
       "      <td>-0.367561</td>\n",
       "      <td>-0.883624</td>\n",
       "      <td>-0.784336</td>\n",
       "      <td>-0.554441</td>\n",
       "      <td>-0.817119</td>\n",
       "      <td>0.464130</td>\n",
       "      <td>-0.297990</td>\n",
       "      <td>-0.241818</td>\n",
       "      <td>-0.188357</td>\n",
       "      <td>-0.254264</td>\n",
       "    </tr>\n",
       "    <tr>\n",
       "      <th>1</th>\n",
       "      <td>0.068972</td>\n",
       "      <td>-0.142467</td>\n",
       "      <td>-0.399383</td>\n",
       "      <td>0.285449</td>\n",
       "      <td>-0.853645</td>\n",
       "      <td>0.397989</td>\n",
       "      <td>0.425933</td>\n",
       "      <td>-0.282038</td>\n",
       "      <td>-0.299600</td>\n",
       "      <td>-0.135252</td>\n",
       "      <td>...</td>\n",
       "      <td>-0.088963</td>\n",
       "      <td>-0.908635</td>\n",
       "      <td>-0.816195</td>\n",
       "      <td>-0.558421</td>\n",
       "      <td>-0.495422</td>\n",
       "      <td>0.543668</td>\n",
       "      <td>-0.298296</td>\n",
       "      <td>-0.243193</td>\n",
       "      <td>-0.243058</td>\n",
       "      <td>-0.141109</td>\n",
       "    </tr>\n",
       "    <tr>\n",
       "      <th>2</th>\n",
       "      <td>0.043107</td>\n",
       "      <td>-0.136912</td>\n",
       "      <td>-0.399383</td>\n",
       "      <td>0.134583</td>\n",
       "      <td>-0.901404</td>\n",
       "      <td>0.406433</td>\n",
       "      <td>0.661555</td>\n",
       "      <td>-0.282297</td>\n",
       "      <td>-0.299804</td>\n",
       "      <td>-0.136993</td>\n",
       "      <td>...</td>\n",
       "      <td>-0.122263</td>\n",
       "      <td>-0.700246</td>\n",
       "      <td>-0.719836</td>\n",
       "      <td>-0.530677</td>\n",
       "      <td>-0.292264</td>\n",
       "      <td>0.548209</td>\n",
       "      <td>-0.298344</td>\n",
       "      <td>-0.243768</td>\n",
       "      <td>-0.257568</td>\n",
       "      <td>-0.190792</td>\n",
       "    </tr>\n",
       "  </tbody>\n",
       "</table>\n",
       "<p>3 rows × 32 columns</p>\n",
       "</div>"
      ],
      "text/plain": [
       "   agricultural_land%  forest_land%  land_area  trade_in_services%  \\\n",
       "0           -0.085836     -0.152721  -0.399383            0.246248   \n",
       "1            0.068972     -0.142467  -0.399383            0.285449   \n",
       "2            0.043107     -0.136912  -0.399383            0.134583   \n",
       "\n",
       "   control_of_corruption_estimate  access_to_electricity%  \\\n",
       "0                       -0.858644                0.383715   \n",
       "1                       -0.853645                0.397989   \n",
       "2                       -0.901404                0.406433   \n",
       "\n",
       "   renewvable_energy_consumption%  CO2_emisions  other_greenhouse_emisions  \\\n",
       "0                        0.255218     -0.282704                  -0.299997   \n",
       "1                        0.425933     -0.282038                  -0.299600   \n",
       "2                        0.661555     -0.282297                  -0.299804   \n",
       "\n",
       "   population_density  ...  regulatory_quality_estimate  \\\n",
       "0           -0.124084  ...                    -0.367561   \n",
       "1           -0.135252  ...                    -0.088963   \n",
       "2           -0.136993  ...                    -0.122263   \n",
       "\n",
       "   government_expenditure_on_education%  government_health_expenditure%  \\\n",
       "0                             -0.883624                       -0.784336   \n",
       "1                             -0.908635                       -0.816195   \n",
       "2                             -0.700246                       -0.719836   \n",
       "\n",
       "   birth_rate  death_rate  life_expectancy_at_birth  population  \\\n",
       "0   -0.554441   -0.817119                  0.464130   -0.297990   \n",
       "1   -0.558421   -0.495422                  0.543668   -0.298296   \n",
       "2   -0.530677   -0.292264                  0.548209   -0.298344   \n",
       "\n",
       "   rural_population  voice_and_accountability_estimate  intentional_homicides  \n",
       "0         -0.241818                          -0.188357              -0.254264  \n",
       "1         -0.243193                          -0.243058              -0.141109  \n",
       "2         -0.243768                          -0.257568              -0.190792  \n",
       "\n",
       "[3 rows x 32 columns]"
      ]
     },
     "execution_count": 2,
     "metadata": {},
     "output_type": "execute_result"
    }
   ],
   "source": [
    "X1_train = pd.read_csv('../X1_train.csv')\n",
    "print(X1_train.shape)\n",
    "X1_train.head(3)"
   ]
  },
  {
   "cell_type": "code",
   "execution_count": 3,
   "id": "d9c3bf1e-78ba-4d35-9a4e-2f720c6dfed5",
   "metadata": {},
   "outputs": [
    {
     "name": "stdout",
     "output_type": "stream",
     "text": [
      "(216, 32)\n"
     ]
    },
    {
     "data": {
      "text/html": [
       "<div>\n",
       "<style scoped>\n",
       "    .dataframe tbody tr th:only-of-type {\n",
       "        vertical-align: middle;\n",
       "    }\n",
       "\n",
       "    .dataframe tbody tr th {\n",
       "        vertical-align: top;\n",
       "    }\n",
       "\n",
       "    .dataframe thead th {\n",
       "        text-align: right;\n",
       "    }\n",
       "</style>\n",
       "<table border=\"1\" class=\"dataframe\">\n",
       "  <thead>\n",
       "    <tr style=\"text-align: right;\">\n",
       "      <th></th>\n",
       "      <th>agricultural_land%</th>\n",
       "      <th>forest_land%</th>\n",
       "      <th>land_area</th>\n",
       "      <th>trade_in_services%</th>\n",
       "      <th>control_of_corruption_estimate</th>\n",
       "      <th>access_to_electricity%</th>\n",
       "      <th>renewvable_energy_consumption%</th>\n",
       "      <th>CO2_emisions</th>\n",
       "      <th>other_greenhouse_emisions</th>\n",
       "      <th>population_density</th>\n",
       "      <th>...</th>\n",
       "      <th>regulatory_quality_estimate</th>\n",
       "      <th>government_expenditure_on_education%</th>\n",
       "      <th>government_health_expenditure%</th>\n",
       "      <th>birth_rate</th>\n",
       "      <th>death_rate</th>\n",
       "      <th>life_expectancy_at_birth</th>\n",
       "      <th>population</th>\n",
       "      <th>rural_population</th>\n",
       "      <th>voice_and_accountability_estimate</th>\n",
       "      <th>intentional_homicides</th>\n",
       "    </tr>\n",
       "  </thead>\n",
       "  <tbody>\n",
       "    <tr>\n",
       "      <th>0</th>\n",
       "      <td>0.136730</td>\n",
       "      <td>-0.465156</td>\n",
       "      <td>-0.398352</td>\n",
       "      <td>0.063243</td>\n",
       "      <td>1.137122</td>\n",
       "      <td>0.411828</td>\n",
       "      <td>-1.016253</td>\n",
       "      <td>-0.207171</td>\n",
       "      <td>-0.229514</td>\n",
       "      <td>1.020816</td>\n",
       "      <td>...</td>\n",
       "      <td>1.180557</td>\n",
       "      <td>0.677640</td>\n",
       "      <td>1.187351</td>\n",
       "      <td>-0.596512</td>\n",
       "      <td>0.295533</td>\n",
       "      <td>0.791354</td>\n",
       "      <td>-0.261786</td>\n",
       "      <td>-0.252620</td>\n",
       "      <td>1.158562</td>\n",
       "      <td>-0.29131</td>\n",
       "    </tr>\n",
       "    <tr>\n",
       "      <th>1</th>\n",
       "      <td>0.133997</td>\n",
       "      <td>-0.461171</td>\n",
       "      <td>-0.398352</td>\n",
       "      <td>0.202357</td>\n",
       "      <td>1.151910</td>\n",
       "      <td>0.411828</td>\n",
       "      <td>-0.991801</td>\n",
       "      <td>-0.205041</td>\n",
       "      <td>-0.227806</td>\n",
       "      <td>1.033955</td>\n",
       "      <td>...</td>\n",
       "      <td>1.163943</td>\n",
       "      <td>1.244900</td>\n",
       "      <td>1.410141</td>\n",
       "      <td>-0.573771</td>\n",
       "      <td>0.400434</td>\n",
       "      <td>0.776349</td>\n",
       "      <td>-0.261387</td>\n",
       "      <td>-0.252648</td>\n",
       "      <td>1.119936</td>\n",
       "      <td>-0.29131</td>\n",
       "    </tr>\n",
       "    <tr>\n",
       "      <th>2</th>\n",
       "      <td>0.131093</td>\n",
       "      <td>-0.457186</td>\n",
       "      <td>-0.398352</td>\n",
       "      <td>0.206957</td>\n",
       "      <td>1.238729</td>\n",
       "      <td>0.411828</td>\n",
       "      <td>-0.950901</td>\n",
       "      <td>-0.210204</td>\n",
       "      <td>-0.231896</td>\n",
       "      <td>1.047444</td>\n",
       "      <td>...</td>\n",
       "      <td>1.057328</td>\n",
       "      <td>1.332046</td>\n",
       "      <td>1.685723</td>\n",
       "      <td>-0.585142</td>\n",
       "      <td>0.330500</td>\n",
       "      <td>0.828152</td>\n",
       "      <td>-0.260978</td>\n",
       "      <td>-0.252674</td>\n",
       "      <td>1.143365</td>\n",
       "      <td>-0.29131</td>\n",
       "    </tr>\n",
       "  </tbody>\n",
       "</table>\n",
       "<p>3 rows × 32 columns</p>\n",
       "</div>"
      ],
      "text/plain": [
       "   agricultural_land%  forest_land%  land_area  trade_in_services%  \\\n",
       "0            0.136730     -0.465156  -0.398352            0.063243   \n",
       "1            0.133997     -0.461171  -0.398352            0.202357   \n",
       "2            0.131093     -0.457186  -0.398352            0.206957   \n",
       "\n",
       "   control_of_corruption_estimate  access_to_electricity%  \\\n",
       "0                        1.137122                0.411828   \n",
       "1                        1.151910                0.411828   \n",
       "2                        1.238729                0.411828   \n",
       "\n",
       "   renewvable_energy_consumption%  CO2_emisions  other_greenhouse_emisions  \\\n",
       "0                       -1.016253     -0.207171                  -0.229514   \n",
       "1                       -0.991801     -0.205041                  -0.227806   \n",
       "2                       -0.950901     -0.210204                  -0.231896   \n",
       "\n",
       "   population_density  ...  regulatory_quality_estimate  \\\n",
       "0            1.020816  ...                     1.180557   \n",
       "1            1.033955  ...                     1.163943   \n",
       "2            1.047444  ...                     1.057328   \n",
       "\n",
       "   government_expenditure_on_education%  government_health_expenditure%  \\\n",
       "0                              0.677640                        1.187351   \n",
       "1                              1.244900                        1.410141   \n",
       "2                              1.332046                        1.685723   \n",
       "\n",
       "   birth_rate  death_rate  life_expectancy_at_birth  population  \\\n",
       "0   -0.596512    0.295533                  0.791354   -0.261786   \n",
       "1   -0.573771    0.400434                  0.776349   -0.261387   \n",
       "2   -0.585142    0.330500                  0.828152   -0.260978   \n",
       "\n",
       "   rural_population  voice_and_accountability_estimate  intentional_homicides  \n",
       "0         -0.252620                           1.158562               -0.29131  \n",
       "1         -0.252648                           1.119936               -0.29131  \n",
       "2         -0.252674                           1.143365               -0.29131  \n",
       "\n",
       "[3 rows x 32 columns]"
      ]
     },
     "execution_count": 3,
     "metadata": {},
     "output_type": "execute_result"
    }
   ],
   "source": [
    "X1_test = pd.read_csv('../X1_test.csv')\n",
    "print(X1_test.shape)\n",
    "X1_test.head(3)"
   ]
  },
  {
   "cell_type": "code",
   "execution_count": 4,
   "id": "cdb2c94c-6907-4639-8699-df48ed0a883f",
   "metadata": {},
   "outputs": [
    {
     "name": "stdout",
     "output_type": "stream",
     "text": [
      "(813, 1)\n"
     ]
    },
    {
     "data": {
      "text/html": [
       "<div>\n",
       "<style scoped>\n",
       "    .dataframe tbody tr th:only-of-type {\n",
       "        vertical-align: middle;\n",
       "    }\n",
       "\n",
       "    .dataframe tbody tr th {\n",
       "        vertical-align: top;\n",
       "    }\n",
       "\n",
       "    .dataframe thead th {\n",
       "        text-align: right;\n",
       "    }\n",
       "</style>\n",
       "<table border=\"1\" class=\"dataframe\">\n",
       "  <thead>\n",
       "    <tr style=\"text-align: right;\">\n",
       "      <th></th>\n",
       "      <th>gini_next</th>\n",
       "    </tr>\n",
       "  </thead>\n",
       "  <tbody>\n",
       "    <tr>\n",
       "      <th>0</th>\n",
       "      <td>30.0</td>\n",
       "    </tr>\n",
       "    <tr>\n",
       "      <th>1</th>\n",
       "      <td>29.0</td>\n",
       "    </tr>\n",
       "    <tr>\n",
       "      <th>2</th>\n",
       "      <td>34.6</td>\n",
       "    </tr>\n",
       "  </tbody>\n",
       "</table>\n",
       "</div>"
      ],
      "text/plain": [
       "   gini_next\n",
       "0       30.0\n",
       "1       29.0\n",
       "2       34.6"
      ]
     },
     "execution_count": 4,
     "metadata": {},
     "output_type": "execute_result"
    }
   ],
   "source": [
    "y_train = pd.read_csv('../y_train.csv')\n",
    "print(y_train.shape)\n",
    "y_train.head(3)"
   ]
  },
  {
   "cell_type": "code",
   "execution_count": 5,
   "id": "6bfce18e-9a9b-4529-8763-fc936eeaf115",
   "metadata": {},
   "outputs": [
    {
     "name": "stdout",
     "output_type": "stream",
     "text": [
      "(216, 1)\n"
     ]
    },
    {
     "data": {
      "text/html": [
       "<div>\n",
       "<style scoped>\n",
       "    .dataframe tbody tr th:only-of-type {\n",
       "        vertical-align: middle;\n",
       "    }\n",
       "\n",
       "    .dataframe tbody tr th {\n",
       "        vertical-align: top;\n",
       "    }\n",
       "\n",
       "    .dataframe thead th {\n",
       "        text-align: right;\n",
       "    }\n",
       "</style>\n",
       "<table border=\"1\" class=\"dataframe\">\n",
       "  <thead>\n",
       "    <tr style=\"text-align: right;\">\n",
       "      <th></th>\n",
       "      <th>gini_next</th>\n",
       "    </tr>\n",
       "  </thead>\n",
       "  <tbody>\n",
       "    <tr>\n",
       "      <th>0</th>\n",
       "      <td>28.4</td>\n",
       "    </tr>\n",
       "    <tr>\n",
       "      <th>1</th>\n",
       "      <td>28.6</td>\n",
       "    </tr>\n",
       "    <tr>\n",
       "      <th>2</th>\n",
       "      <td>28.4</td>\n",
       "    </tr>\n",
       "  </tbody>\n",
       "</table>\n",
       "</div>"
      ],
      "text/plain": [
       "   gini_next\n",
       "0       28.4\n",
       "1       28.6\n",
       "2       28.4"
      ]
     },
     "execution_count": 5,
     "metadata": {},
     "output_type": "execute_result"
    }
   ],
   "source": [
    "y_test = pd.read_csv('../y_test.csv')\n",
    "print(y_test.shape)\n",
    "y_test.head(3)"
   ]
  },
  {
   "cell_type": "code",
   "execution_count": 6,
   "id": "aa997b34-c09c-4b1c-a5b5-3ac7573b314c",
   "metadata": {},
   "outputs": [],
   "source": [
    "X2_train = pd.read_csv('../X2_train.csv')\n",
    "X3_train = pd.read_csv('../X3_train.csv')\n",
    "X2_test = pd.read_csv('../X2_test.csv')\n",
    "X3_test = pd.read_csv('../X3_test.csv')"
   ]
  },
  {
   "cell_type": "markdown",
   "id": "8ee8612f-c979-4077-9643-b6764863dc4a",
   "metadata": {},
   "source": [
    "## Simple Bias Regression"
   ]
  },
  {
   "cell_type": "code",
   "execution_count": 7,
   "id": "cbf38d6d-9a42-4cb8-9b3d-8c80f5e13501",
   "metadata": {},
   "outputs": [
    {
     "name": "stdout",
     "output_type": "stream",
     "text": [
      "Bias Regressor Prediction (mean of target): 35.95375153751538\n",
      "R^2 of Bias Regressor: -0.022566125702707218\n"
     ]
    }
   ],
   "source": [
    "# 1. Calculate the mean of the target variable\n",
    "mean_target = np.mean(y_train)\n",
    "\n",
    "# 2. Make predictions (predict the mean for all instances)\n",
    "y_pred_bias = np.full_like(y_test, mean_target)\n",
    "\n",
    "# 3. Evaluate the model \n",
    "mse_bias = mean_squared_error(y_test, y_pred_bias)\n",
    "r2_bias = r2_score(y_test, y_pred_bias)\n",
    "\n",
    "print(f\"Bias Regressor Prediction (mean of target): {mean_target}\")\n",
    "print(f\"R^2 of Bias Regressor: {r2_bias}\")"
   ]
  },
  {
   "cell_type": "markdown",
   "id": "870d9215-8b27-44a7-9f50-8440f7b6e3f0",
   "metadata": {
    "jp-MarkdownHeadingCollapsed": true
   },
   "source": [
    "## Linear Regression"
   ]
  },
  {
   "cell_type": "markdown",
   "id": "e5f20266-0be6-4e30-8240-3b2cc51fa6f3",
   "metadata": {},
   "source": [
    "#### X1"
   ]
  },
  {
   "cell_type": "code",
   "execution_count": 8,
   "id": "88d6e1f1-39bf-44dd-9292-c19acefd2ae1",
   "metadata": {},
   "outputs": [
    {
     "name": "stdout",
     "output_type": "stream",
     "text": [
      "Test R2: 0.3993074592518191\n"
     ]
    }
   ],
   "source": [
    "# Lin reg\n",
    "lr = LinearRegression()\n",
    "lr.fit(X1_train,y_train)\n",
    "print('Test R2:',lr.score(X1_test, y_test))"
   ]
  },
  {
   "cell_type": "code",
   "execution_count": 9,
   "id": "1338b7cb-1c7c-478c-b315-1304c07c46f3",
   "metadata": {},
   "outputs": [
    {
     "name": "stdout",
     "output_type": "stream",
     "text": [
      "   actual  predicted      diff  abs_diff\n",
      "0    28.4  30.936636 -2.536636  2.536636\n",
      "1    28.6  29.719242 -1.119242  1.119242\n",
      "2    28.4  30.151217 -1.751217  1.751217\n",
      "3    28.1  29.502134 -1.402134  1.402134\n",
      "4    27.5  28.931341 -1.431341  1.431341\n",
      "5    27.7  28.805322 -1.105322  1.105322\n",
      "6    28.1  28.594605 -0.494605  0.494605\n",
      "7    27.7  28.868974 -1.168974  1.168974\n",
      "8    27.6  28.818418 -1.218418  1.218418\n",
      "9    27.4  28.723480 -1.323480  1.323480\n"
     ]
    },
    {
     "data": {
      "text/html": [
       "<div>\n",
       "<style scoped>\n",
       "    .dataframe tbody tr th:only-of-type {\n",
       "        vertical-align: middle;\n",
       "    }\n",
       "\n",
       "    .dataframe tbody tr th {\n",
       "        vertical-align: top;\n",
       "    }\n",
       "\n",
       "    .dataframe thead th {\n",
       "        text-align: right;\n",
       "    }\n",
       "</style>\n",
       "<table border=\"1\" class=\"dataframe\">\n",
       "  <thead>\n",
       "    <tr style=\"text-align: right;\">\n",
       "      <th></th>\n",
       "      <th>actual</th>\n",
       "      <th>predicted</th>\n",
       "      <th>diff</th>\n",
       "      <th>abs_diff</th>\n",
       "    </tr>\n",
       "  </thead>\n",
       "  <tbody>\n",
       "    <tr>\n",
       "      <th>132</th>\n",
       "      <td>61.0</td>\n",
       "      <td>42.351055</td>\n",
       "      <td>18.648945</td>\n",
       "      <td>18.648945</td>\n",
       "    </tr>\n",
       "    <tr>\n",
       "      <th>133</th>\n",
       "      <td>59.1</td>\n",
       "      <td>41.179160</td>\n",
       "      <td>17.920840</td>\n",
       "      <td>17.920840</td>\n",
       "    </tr>\n",
       "    <tr>\n",
       "      <th>201</th>\n",
       "      <td>28.7</td>\n",
       "      <td>45.188467</td>\n",
       "      <td>-16.488467</td>\n",
       "      <td>16.488467</td>\n",
       "    </tr>\n",
       "    <tr>\n",
       "      <th>83</th>\n",
       "      <td>42.6</td>\n",
       "      <td>26.204709</td>\n",
       "      <td>16.395291</td>\n",
       "      <td>16.395291</td>\n",
       "    </tr>\n",
       "    <tr>\n",
       "      <th>94</th>\n",
       "      <td>37.8</td>\n",
       "      <td>21.469836</td>\n",
       "      <td>16.330164</td>\n",
       "      <td>16.330164</td>\n",
       "    </tr>\n",
       "    <tr>\n",
       "      <th>...</th>\n",
       "      <td>...</td>\n",
       "      <td>...</td>\n",
       "      <td>...</td>\n",
       "      <td>...</td>\n",
       "    </tr>\n",
       "    <tr>\n",
       "      <th>117</th>\n",
       "      <td>42.4</td>\n",
       "      <td>42.227438</td>\n",
       "      <td>0.172562</td>\n",
       "      <td>0.172562</td>\n",
       "    </tr>\n",
       "    <tr>\n",
       "      <th>23</th>\n",
       "      <td>41.6</td>\n",
       "      <td>41.506813</td>\n",
       "      <td>0.093187</td>\n",
       "      <td>0.093187</td>\n",
       "    </tr>\n",
       "    <tr>\n",
       "      <th>118</th>\n",
       "      <td>42.6</td>\n",
       "      <td>42.655267</td>\n",
       "      <td>-0.055267</td>\n",
       "      <td>0.055267</td>\n",
       "    </tr>\n",
       "    <tr>\n",
       "      <th>147</th>\n",
       "      <td>43.9</td>\n",
       "      <td>43.850149</td>\n",
       "      <td>0.049851</td>\n",
       "      <td>0.049851</td>\n",
       "    </tr>\n",
       "    <tr>\n",
       "      <th>127</th>\n",
       "      <td>35.7</td>\n",
       "      <td>35.729474</td>\n",
       "      <td>-0.029474</td>\n",
       "      <td>0.029474</td>\n",
       "    </tr>\n",
       "  </tbody>\n",
       "</table>\n",
       "<p>216 rows × 4 columns</p>\n",
       "</div>"
      ],
      "text/plain": [
       "     actual  predicted       diff   abs_diff\n",
       "132    61.0  42.351055  18.648945  18.648945\n",
       "133    59.1  41.179160  17.920840  17.920840\n",
       "201    28.7  45.188467 -16.488467  16.488467\n",
       "83     42.6  26.204709  16.395291  16.395291\n",
       "94     37.8  21.469836  16.330164  16.330164\n",
       "..      ...        ...        ...        ...\n",
       "117    42.4  42.227438   0.172562   0.172562\n",
       "23     41.6  41.506813   0.093187   0.093187\n",
       "118    42.6  42.655267  -0.055267   0.055267\n",
       "147    43.9  43.850149   0.049851   0.049851\n",
       "127    35.7  35.729474  -0.029474   0.029474\n",
       "\n",
       "[216 rows x 4 columns]"
      ]
     },
     "execution_count": 9,
     "metadata": {},
     "output_type": "execute_result"
    }
   ],
   "source": [
    "# 1) Find the best and worst result from linear regression\n",
    "y_pred = lr.predict(X1_test)\n",
    "\n",
    "# Compare predictions with actual values\n",
    "comparison = pd.DataFrame({\n",
    "    'actual': y_test.iloc[:,0],\n",
    "    'predicted': y_pred[:,0],\n",
    "    'diff': y_test.iloc[:,0] - y_pred[:,0]\n",
    "})\n",
    "comparison['abs_diff'] = comparison['diff'].abs()\n",
    "print(comparison.head(10))  \n",
    "comparison.sort_values(by='abs_diff', ascending=False)"
   ]
  },
  {
   "cell_type": "code",
   "execution_count": 10,
   "id": "3dcc78ce-e822-4e56-9342-b2c74f70b42a",
   "metadata": {},
   "outputs": [
    {
     "data": {
      "text/html": [
       "<div>\n",
       "<style scoped>\n",
       "    .dataframe tbody tr th:only-of-type {\n",
       "        vertical-align: middle;\n",
       "    }\n",
       "\n",
       "    .dataframe tbody tr th {\n",
       "        vertical-align: top;\n",
       "    }\n",
       "\n",
       "    .dataframe thead th {\n",
       "        text-align: right;\n",
       "    }\n",
       "</style>\n",
       "<table border=\"1\" class=\"dataframe\">\n",
       "  <thead>\n",
       "    <tr style=\"text-align: right;\">\n",
       "      <th></th>\n",
       "      <th>features</th>\n",
       "      <th>coeff</th>\n",
       "      <th>abs_coeff</th>\n",
       "    </tr>\n",
       "  </thead>\n",
       "  <tbody>\n",
       "    <tr>\n",
       "      <th>8</th>\n",
       "      <td>other_greenhouse_emisions</td>\n",
       "      <td>18.781075</td>\n",
       "      <td>18.781075</td>\n",
       "    </tr>\n",
       "    <tr>\n",
       "      <th>7</th>\n",
       "      <td>CO2_emisions</td>\n",
       "      <td>-15.979008</td>\n",
       "      <td>15.979008</td>\n",
       "    </tr>\n",
       "    <tr>\n",
       "      <th>29</th>\n",
       "      <td>rural_population</td>\n",
       "      <td>-6.647337</td>\n",
       "      <td>6.647337</td>\n",
       "    </tr>\n",
       "    <tr>\n",
       "      <th>28</th>\n",
       "      <td>population</td>\n",
       "      <td>5.311137</td>\n",
       "      <td>5.311137</td>\n",
       "    </tr>\n",
       "    <tr>\n",
       "      <th>26</th>\n",
       "      <td>death_rate</td>\n",
       "      <td>-2.931181</td>\n",
       "      <td>2.931181</td>\n",
       "    </tr>\n",
       "    <tr>\n",
       "      <th>30</th>\n",
       "      <td>voice_and_accountability_estimate</td>\n",
       "      <td>2.689438</td>\n",
       "      <td>2.689438</td>\n",
       "    </tr>\n",
       "    <tr>\n",
       "      <th>1</th>\n",
       "      <td>forest_land%</td>\n",
       "      <td>2.611639</td>\n",
       "      <td>2.611639</td>\n",
       "    </tr>\n",
       "    <tr>\n",
       "      <th>27</th>\n",
       "      <td>life_expectancy_at_birth</td>\n",
       "      <td>-2.369693</td>\n",
       "      <td>2.369693</td>\n",
       "    </tr>\n",
       "    <tr>\n",
       "      <th>12</th>\n",
       "      <td>research_and_development_expenditure%</td>\n",
       "      <td>-2.185052</td>\n",
       "      <td>2.185052</td>\n",
       "    </tr>\n",
       "    <tr>\n",
       "      <th>31</th>\n",
       "      <td>intentional_homicides</td>\n",
       "      <td>1.447586</td>\n",
       "      <td>1.447586</td>\n",
       "    </tr>\n",
       "    <tr>\n",
       "      <th>19</th>\n",
       "      <td>GDP_current_US</td>\n",
       "      <td>-1.358684</td>\n",
       "      <td>1.358684</td>\n",
       "    </tr>\n",
       "    <tr>\n",
       "      <th>25</th>\n",
       "      <td>birth_rate</td>\n",
       "      <td>-1.346449</td>\n",
       "      <td>1.346449</td>\n",
       "    </tr>\n",
       "    <tr>\n",
       "      <th>4</th>\n",
       "      <td>control_of_corruption_estimate</td>\n",
       "      <td>1.336935</td>\n",
       "      <td>1.336935</td>\n",
       "    </tr>\n",
       "    <tr>\n",
       "      <th>0</th>\n",
       "      <td>agricultural_land%</td>\n",
       "      <td>1.297326</td>\n",
       "      <td>1.297326</td>\n",
       "    </tr>\n",
       "    <tr>\n",
       "      <th>5</th>\n",
       "      <td>access_to_electricity%</td>\n",
       "      <td>-1.273209</td>\n",
       "      <td>1.273209</td>\n",
       "    </tr>\n",
       "    <tr>\n",
       "      <th>24</th>\n",
       "      <td>government_health_expenditure%</td>\n",
       "      <td>1.205286</td>\n",
       "      <td>1.205286</td>\n",
       "    </tr>\n",
       "    <tr>\n",
       "      <th>21</th>\n",
       "      <td>rule_of_law_estimate</td>\n",
       "      <td>-1.203975</td>\n",
       "      <td>1.203975</td>\n",
       "    </tr>\n",
       "    <tr>\n",
       "      <th>17</th>\n",
       "      <td>individuals_using_internet%</td>\n",
       "      <td>-0.993315</td>\n",
       "      <td>0.993315</td>\n",
       "    </tr>\n",
       "    <tr>\n",
       "      <th>23</th>\n",
       "      <td>government_expenditure_on_education%</td>\n",
       "      <td>-0.966833</td>\n",
       "      <td>0.966833</td>\n",
       "    </tr>\n",
       "    <tr>\n",
       "      <th>15</th>\n",
       "      <td>expense%</td>\n",
       "      <td>-0.793438</td>\n",
       "      <td>0.793438</td>\n",
       "    </tr>\n",
       "    <tr>\n",
       "      <th>18</th>\n",
       "      <td>military_expenditure%</td>\n",
       "      <td>0.756493</td>\n",
       "      <td>0.756493</td>\n",
       "    </tr>\n",
       "    <tr>\n",
       "      <th>22</th>\n",
       "      <td>regulatory_quality_estimate</td>\n",
       "      <td>-0.737171</td>\n",
       "      <td>0.737171</td>\n",
       "    </tr>\n",
       "    <tr>\n",
       "      <th>10</th>\n",
       "      <td>inflation_annual%</td>\n",
       "      <td>-0.646430</td>\n",
       "      <td>0.646430</td>\n",
       "    </tr>\n",
       "    <tr>\n",
       "      <th>20</th>\n",
       "      <td>political_stability_estimate</td>\n",
       "      <td>-0.607318</td>\n",
       "      <td>0.607318</td>\n",
       "    </tr>\n",
       "    <tr>\n",
       "      <th>11</th>\n",
       "      <td>real_interest_rate</td>\n",
       "      <td>-0.597317</td>\n",
       "      <td>0.597317</td>\n",
       "    </tr>\n",
       "    <tr>\n",
       "      <th>6</th>\n",
       "      <td>renewvable_energy_consumption%</td>\n",
       "      <td>0.292841</td>\n",
       "      <td>0.292841</td>\n",
       "    </tr>\n",
       "    <tr>\n",
       "      <th>13</th>\n",
       "      <td>central_goverment_debt%</td>\n",
       "      <td>0.218582</td>\n",
       "      <td>0.218582</td>\n",
       "    </tr>\n",
       "    <tr>\n",
       "      <th>16</th>\n",
       "      <td>goverment_effectiveness_estimate</td>\n",
       "      <td>0.211292</td>\n",
       "      <td>0.211292</td>\n",
       "    </tr>\n",
       "    <tr>\n",
       "      <th>14</th>\n",
       "      <td>tax_revenue%</td>\n",
       "      <td>0.207812</td>\n",
       "      <td>0.207812</td>\n",
       "    </tr>\n",
       "    <tr>\n",
       "      <th>9</th>\n",
       "      <td>population_density</td>\n",
       "      <td>-0.149473</td>\n",
       "      <td>0.149473</td>\n",
       "    </tr>\n",
       "    <tr>\n",
       "      <th>3</th>\n",
       "      <td>trade_in_services%</td>\n",
       "      <td>-0.124363</td>\n",
       "      <td>0.124363</td>\n",
       "    </tr>\n",
       "    <tr>\n",
       "      <th>2</th>\n",
       "      <td>land_area</td>\n",
       "      <td>-0.097468</td>\n",
       "      <td>0.097468</td>\n",
       "    </tr>\n",
       "  </tbody>\n",
       "</table>\n",
       "</div>"
      ],
      "text/plain": [
       "                                 features      coeff  abs_coeff\n",
       "8               other_greenhouse_emisions  18.781075  18.781075\n",
       "7                            CO2_emisions -15.979008  15.979008\n",
       "29                       rural_population  -6.647337   6.647337\n",
       "28                             population   5.311137   5.311137\n",
       "26                             death_rate  -2.931181   2.931181\n",
       "30      voice_and_accountability_estimate   2.689438   2.689438\n",
       "1                            forest_land%   2.611639   2.611639\n",
       "27               life_expectancy_at_birth  -2.369693   2.369693\n",
       "12  research_and_development_expenditure%  -2.185052   2.185052\n",
       "31                  intentional_homicides   1.447586   1.447586\n",
       "19                         GDP_current_US  -1.358684   1.358684\n",
       "25                             birth_rate  -1.346449   1.346449\n",
       "4          control_of_corruption_estimate   1.336935   1.336935\n",
       "0                      agricultural_land%   1.297326   1.297326\n",
       "5                  access_to_electricity%  -1.273209   1.273209\n",
       "24         government_health_expenditure%   1.205286   1.205286\n",
       "21                   rule_of_law_estimate  -1.203975   1.203975\n",
       "17            individuals_using_internet%  -0.993315   0.993315\n",
       "23   government_expenditure_on_education%  -0.966833   0.966833\n",
       "15                               expense%  -0.793438   0.793438\n",
       "18                  military_expenditure%   0.756493   0.756493\n",
       "22            regulatory_quality_estimate  -0.737171   0.737171\n",
       "10                      inflation_annual%  -0.646430   0.646430\n",
       "20           political_stability_estimate  -0.607318   0.607318\n",
       "11                     real_interest_rate  -0.597317   0.597317\n",
       "6          renewvable_energy_consumption%   0.292841   0.292841\n",
       "13                central_goverment_debt%   0.218582   0.218582\n",
       "16       goverment_effectiveness_estimate   0.211292   0.211292\n",
       "14                           tax_revenue%   0.207812   0.207812\n",
       "9                      population_density  -0.149473   0.149473\n",
       "3                      trade_in_services%  -0.124363   0.124363\n",
       "2                               land_area  -0.097468   0.097468"
      ]
     },
     "execution_count": 10,
     "metadata": {},
     "output_type": "execute_result"
    }
   ],
   "source": [
    "# 2) Examine the coefficients (weights) learned \n",
    "results = pd.DataFrame()\n",
    "results['features'] = X1_train.columns\n",
    "results['coeff'] = lr.coef_[0]\n",
    "results['abs_coeff'] = results['coeff'].abs()\n",
    "results.sort_values(by='abs_coeff', ascending=False)"
   ]
  },
  {
   "cell_type": "markdown",
   "id": "eb9dbd4b-eb3b-4147-837f-0750c23017a5",
   "metadata": {},
   "source": [
    "#### X2"
   ]
  },
  {
   "cell_type": "code",
   "execution_count": 11,
   "id": "6754f32d-a741-45c5-88fc-69c602eaae92",
   "metadata": {},
   "outputs": [
    {
     "name": "stdout",
     "output_type": "stream",
     "text": [
      "Test R2: 0.5349015051054975\n",
      "   actual  predicted      diff  abs_diff\n",
      "0    28.4  31.259255 -2.859255  2.859255\n",
      "1    28.6  29.880951 -1.280951  1.280951\n",
      "2    28.4  30.560307 -2.160307  2.160307\n",
      "3    28.1  31.098671 -2.998671  2.998671\n",
      "4    27.5  30.106201 -2.606201  2.606201\n",
      "5    27.7  29.491921 -1.791921  1.791921\n",
      "6    28.1  28.346143 -0.246143  0.246143\n",
      "7    27.7  28.331737 -0.631737  0.631737\n",
      "8    27.6  27.132053  0.467947  0.467947\n",
      "9    27.4  25.722424  1.677576  1.677576\n"
     ]
    },
    {
     "data": {
      "text/html": [
       "<div>\n",
       "<style scoped>\n",
       "    .dataframe tbody tr th:only-of-type {\n",
       "        vertical-align: middle;\n",
       "    }\n",
       "\n",
       "    .dataframe tbody tr th {\n",
       "        vertical-align: top;\n",
       "    }\n",
       "\n",
       "    .dataframe thead th {\n",
       "        text-align: right;\n",
       "    }\n",
       "</style>\n",
       "<table border=\"1\" class=\"dataframe\">\n",
       "  <thead>\n",
       "    <tr style=\"text-align: right;\">\n",
       "      <th></th>\n",
       "      <th>actual</th>\n",
       "      <th>predicted</th>\n",
       "      <th>diff</th>\n",
       "      <th>abs_diff</th>\n",
       "    </tr>\n",
       "  </thead>\n",
       "  <tbody>\n",
       "    <tr>\n",
       "      <th>147</th>\n",
       "      <td>43.9</td>\n",
       "      <td>58.380373</td>\n",
       "      <td>-14.480373</td>\n",
       "      <td>14.480373</td>\n",
       "    </tr>\n",
       "    <tr>\n",
       "      <th>84</th>\n",
       "      <td>42.6</td>\n",
       "      <td>28.950952</td>\n",
       "      <td>13.649048</td>\n",
       "      <td>13.649048</td>\n",
       "    </tr>\n",
       "    <tr>\n",
       "      <th>132</th>\n",
       "      <td>61.0</td>\n",
       "      <td>47.815101</td>\n",
       "      <td>13.184899</td>\n",
       "      <td>13.184899</td>\n",
       "    </tr>\n",
       "    <tr>\n",
       "      <th>131</th>\n",
       "      <td>30.7</td>\n",
       "      <td>43.683234</td>\n",
       "      <td>-12.983234</td>\n",
       "      <td>12.983234</td>\n",
       "    </tr>\n",
       "    <tr>\n",
       "      <th>85</th>\n",
       "      <td>41.4</td>\n",
       "      <td>28.610689</td>\n",
       "      <td>12.789311</td>\n",
       "      <td>12.789311</td>\n",
       "    </tr>\n",
       "    <tr>\n",
       "      <th>...</th>\n",
       "      <td>...</td>\n",
       "      <td>...</td>\n",
       "      <td>...</td>\n",
       "      <td>...</td>\n",
       "    </tr>\n",
       "    <tr>\n",
       "      <th>184</th>\n",
       "      <td>28.8</td>\n",
       "      <td>28.745553</td>\n",
       "      <td>0.054447</td>\n",
       "      <td>0.054447</td>\n",
       "    </tr>\n",
       "    <tr>\n",
       "      <th>141</th>\n",
       "      <td>28.2</td>\n",
       "      <td>28.164853</td>\n",
       "      <td>0.035147</td>\n",
       "      <td>0.035147</td>\n",
       "    </tr>\n",
       "    <tr>\n",
       "      <th>186</th>\n",
       "      <td>29.3</td>\n",
       "      <td>29.289824</td>\n",
       "      <td>0.010176</td>\n",
       "      <td>0.010176</td>\n",
       "    </tr>\n",
       "    <tr>\n",
       "      <th>157</th>\n",
       "      <td>34.2</td>\n",
       "      <td>34.209049</td>\n",
       "      <td>-0.009049</td>\n",
       "      <td>0.009049</td>\n",
       "    </tr>\n",
       "    <tr>\n",
       "      <th>117</th>\n",
       "      <td>42.4</td>\n",
       "      <td>42.399162</td>\n",
       "      <td>0.000838</td>\n",
       "      <td>0.000838</td>\n",
       "    </tr>\n",
       "  </tbody>\n",
       "</table>\n",
       "<p>216 rows × 4 columns</p>\n",
       "</div>"
      ],
      "text/plain": [
       "     actual  predicted       diff   abs_diff\n",
       "147    43.9  58.380373 -14.480373  14.480373\n",
       "84     42.6  28.950952  13.649048  13.649048\n",
       "132    61.0  47.815101  13.184899  13.184899\n",
       "131    30.7  43.683234 -12.983234  12.983234\n",
       "85     41.4  28.610689  12.789311  12.789311\n",
       "..      ...        ...        ...        ...\n",
       "184    28.8  28.745553   0.054447   0.054447\n",
       "141    28.2  28.164853   0.035147   0.035147\n",
       "186    29.3  29.289824   0.010176   0.010176\n",
       "157    34.2  34.209049  -0.009049   0.009049\n",
       "117    42.4  42.399162   0.000838   0.000838\n",
       "\n",
       "[216 rows x 4 columns]"
      ]
     },
     "execution_count": 11,
     "metadata": {},
     "output_type": "execute_result"
    }
   ],
   "source": [
    "# Lin reg\n",
    "lr = LinearRegression()\n",
    "lr.fit(X2_train,y_train)\n",
    "print('Test R2:',lr.score(X2_test, y_test))\n",
    "# 1) Find the best and worst result from linear regression\n",
    "y_pred = lr.predict(X2_test)\n",
    "\n",
    "# Compare predictions with actual values\n",
    "comparison = pd.DataFrame({\n",
    "    'actual': y_test.iloc[:,0],\n",
    "    'predicted': y_pred[:,0],\n",
    "    'diff': y_test.iloc[:,0] - y_pred[:,0]\n",
    "})\n",
    "comparison['abs_diff'] = comparison['diff'].abs()\n",
    "print(comparison.head(10))  \n",
    "comparison.sort_values(by='abs_diff', ascending=False)"
   ]
  },
  {
   "cell_type": "code",
   "execution_count": 12,
   "id": "cc9859d0-ccbe-423e-b0cb-4fef08ab723a",
   "metadata": {},
   "outputs": [
    {
     "data": {
      "text/html": [
       "<div>\n",
       "<style scoped>\n",
       "    .dataframe tbody tr th:only-of-type {\n",
       "        vertical-align: middle;\n",
       "    }\n",
       "\n",
       "    .dataframe tbody tr th {\n",
       "        vertical-align: top;\n",
       "    }\n",
       "\n",
       "    .dataframe thead th {\n",
       "        text-align: right;\n",
       "    }\n",
       "</style>\n",
       "<table border=\"1\" class=\"dataframe\">\n",
       "  <thead>\n",
       "    <tr style=\"text-align: right;\">\n",
       "      <th></th>\n",
       "      <th>features</th>\n",
       "      <th>coeff</th>\n",
       "      <th>abs_coeff</th>\n",
       "    </tr>\n",
       "  </thead>\n",
       "  <tbody>\n",
       "    <tr>\n",
       "      <th>2</th>\n",
       "      <td>land_area</td>\n",
       "      <td>337.192150</td>\n",
       "      <td>337.192150</td>\n",
       "    </tr>\n",
       "    <tr>\n",
       "      <th>48</th>\n",
       "      <td>land_area_rollmean</td>\n",
       "      <td>-336.734680</td>\n",
       "      <td>336.734680</td>\n",
       "    </tr>\n",
       "    <tr>\n",
       "      <th>60</th>\n",
       "      <td>rural_population_rollmean</td>\n",
       "      <td>-116.302249</td>\n",
       "      <td>116.302249</td>\n",
       "    </tr>\n",
       "    <tr>\n",
       "      <th>28</th>\n",
       "      <td>population</td>\n",
       "      <td>104.602633</td>\n",
       "      <td>104.602633</td>\n",
       "    </tr>\n",
       "    <tr>\n",
       "      <th>29</th>\n",
       "      <td>rural_population</td>\n",
       "      <td>101.866041</td>\n",
       "      <td>101.866041</td>\n",
       "    </tr>\n",
       "    <tr>\n",
       "      <th>...</th>\n",
       "      <td>...</td>\n",
       "      <td>...</td>\n",
       "      <td>...</td>\n",
       "    </tr>\n",
       "    <tr>\n",
       "      <th>10</th>\n",
       "      <td>inflation_annual%</td>\n",
       "      <td>-0.080411</td>\n",
       "      <td>0.080411</td>\n",
       "    </tr>\n",
       "    <tr>\n",
       "      <th>77</th>\n",
       "      <td>individuals_using_internet%_rollstd</td>\n",
       "      <td>0.077478</td>\n",
       "      <td>0.077478</td>\n",
       "    </tr>\n",
       "    <tr>\n",
       "      <th>93</th>\n",
       "      <td>tax_revenue%_rollstd</td>\n",
       "      <td>-0.076059</td>\n",
       "      <td>0.076059</td>\n",
       "    </tr>\n",
       "    <tr>\n",
       "      <th>82</th>\n",
       "      <td>military_expenditure%_rollstd</td>\n",
       "      <td>-0.048007</td>\n",
       "      <td>0.048007</td>\n",
       "    </tr>\n",
       "    <tr>\n",
       "      <th>67</th>\n",
       "      <td>agricultural_land%_rollstd</td>\n",
       "      <td>0.027462</td>\n",
       "      <td>0.027462</td>\n",
       "    </tr>\n",
       "  </tbody>\n",
       "</table>\n",
       "<p>96 rows × 3 columns</p>\n",
       "</div>"
      ],
      "text/plain": [
       "                               features       coeff   abs_coeff\n",
       "2                             land_area  337.192150  337.192150\n",
       "48                   land_area_rollmean -336.734680  336.734680\n",
       "60            rural_population_rollmean -116.302249  116.302249\n",
       "28                           population  104.602633  104.602633\n",
       "29                     rural_population  101.866041  101.866041\n",
       "..                                  ...         ...         ...\n",
       "10                    inflation_annual%   -0.080411    0.080411\n",
       "77  individuals_using_internet%_rollstd    0.077478    0.077478\n",
       "93                 tax_revenue%_rollstd   -0.076059    0.076059\n",
       "82        military_expenditure%_rollstd   -0.048007    0.048007\n",
       "67           agricultural_land%_rollstd    0.027462    0.027462\n",
       "\n",
       "[96 rows x 3 columns]"
      ]
     },
     "execution_count": 12,
     "metadata": {},
     "output_type": "execute_result"
    }
   ],
   "source": [
    "# 2) Examine the coefficients (weights) learned \n",
    "results = pd.DataFrame()\n",
    "results['features'] = X2_train.columns\n",
    "results['coeff'] = lr.coef_[0]\n",
    "results['abs_coeff'] = results['coeff'].abs()\n",
    "results.sort_values(by='abs_coeff', ascending=False)"
   ]
  },
  {
   "cell_type": "markdown",
   "id": "91e67d9c-3435-4e21-bafb-ea0fd0c17cc7",
   "metadata": {},
   "source": [
    "#### X3"
   ]
  },
  {
   "cell_type": "code",
   "execution_count": 13,
   "id": "5e243137-ba2d-4ba7-8738-9eb1eb7f2b0a",
   "metadata": {},
   "outputs": [
    {
     "name": "stdout",
     "output_type": "stream",
     "text": [
      "Test R2: 0.4303689648429989\n",
      "   actual  predicted      diff  abs_diff\n",
      "0    28.4  28.878706 -0.478706  0.478706\n",
      "1    28.6  29.493819 -0.893819  0.893819\n",
      "2    28.4  29.745986 -1.345986  1.345986\n",
      "3    28.1  29.397064 -1.297064  1.297064\n",
      "4    27.5  28.844002 -1.344002  1.344002\n",
      "5    27.7  28.188207 -0.488207  0.488207\n",
      "6    28.1  27.001104  1.098896  1.098896\n",
      "7    27.7  26.514521  1.185479  1.185479\n",
      "8    27.6  27.453945  0.146055  0.146055\n",
      "9    27.4  26.456797  0.943203  0.943203\n"
     ]
    },
    {
     "data": {
      "text/html": [
       "<div>\n",
       "<style scoped>\n",
       "    .dataframe tbody tr th:only-of-type {\n",
       "        vertical-align: middle;\n",
       "    }\n",
       "\n",
       "    .dataframe tbody tr th {\n",
       "        vertical-align: top;\n",
       "    }\n",
       "\n",
       "    .dataframe thead th {\n",
       "        text-align: right;\n",
       "    }\n",
       "</style>\n",
       "<table border=\"1\" class=\"dataframe\">\n",
       "  <thead>\n",
       "    <tr style=\"text-align: right;\">\n",
       "      <th></th>\n",
       "      <th>actual</th>\n",
       "      <th>predicted</th>\n",
       "      <th>diff</th>\n",
       "      <th>abs_diff</th>\n",
       "    </tr>\n",
       "  </thead>\n",
       "  <tbody>\n",
       "    <tr>\n",
       "      <th>201</th>\n",
       "      <td>28.7</td>\n",
       "      <td>46.149259</td>\n",
       "      <td>-17.449259</td>\n",
       "      <td>17.449259</td>\n",
       "    </tr>\n",
       "    <tr>\n",
       "      <th>87</th>\n",
       "      <td>39.9</td>\n",
       "      <td>22.945166</td>\n",
       "      <td>16.954834</td>\n",
       "      <td>16.954834</td>\n",
       "    </tr>\n",
       "    <tr>\n",
       "      <th>89</th>\n",
       "      <td>39.7</td>\n",
       "      <td>23.611032</td>\n",
       "      <td>16.088968</td>\n",
       "      <td>16.088968</td>\n",
       "    </tr>\n",
       "    <tr>\n",
       "      <th>86</th>\n",
       "      <td>41.3</td>\n",
       "      <td>25.697364</td>\n",
       "      <td>15.602636</td>\n",
       "      <td>15.602636</td>\n",
       "    </tr>\n",
       "    <tr>\n",
       "      <th>92</th>\n",
       "      <td>38.6</td>\n",
       "      <td>23.186407</td>\n",
       "      <td>15.413593</td>\n",
       "      <td>15.413593</td>\n",
       "    </tr>\n",
       "    <tr>\n",
       "      <th>...</th>\n",
       "      <td>...</td>\n",
       "      <td>...</td>\n",
       "      <td>...</td>\n",
       "      <td>...</td>\n",
       "    </tr>\n",
       "    <tr>\n",
       "      <th>208</th>\n",
       "      <td>32.7</td>\n",
       "      <td>32.639773</td>\n",
       "      <td>0.060227</td>\n",
       "      <td>0.060227</td>\n",
       "    </tr>\n",
       "    <tr>\n",
       "      <th>205</th>\n",
       "      <td>33.7</td>\n",
       "      <td>33.751007</td>\n",
       "      <td>-0.051007</td>\n",
       "      <td>0.051007</td>\n",
       "    </tr>\n",
       "    <tr>\n",
       "      <th>139</th>\n",
       "      <td>28.1</td>\n",
       "      <td>28.150954</td>\n",
       "      <td>-0.050954</td>\n",
       "      <td>0.050954</td>\n",
       "    </tr>\n",
       "    <tr>\n",
       "      <th>181</th>\n",
       "      <td>28.4</td>\n",
       "      <td>28.367203</td>\n",
       "      <td>0.032797</td>\n",
       "      <td>0.032797</td>\n",
       "    </tr>\n",
       "    <tr>\n",
       "      <th>141</th>\n",
       "      <td>28.2</td>\n",
       "      <td>28.174040</td>\n",
       "      <td>0.025960</td>\n",
       "      <td>0.025960</td>\n",
       "    </tr>\n",
       "  </tbody>\n",
       "</table>\n",
       "<p>216 rows × 4 columns</p>\n",
       "</div>"
      ],
      "text/plain": [
       "     actual  predicted       diff   abs_diff\n",
       "201    28.7  46.149259 -17.449259  17.449259\n",
       "87     39.9  22.945166  16.954834  16.954834\n",
       "89     39.7  23.611032  16.088968  16.088968\n",
       "86     41.3  25.697364  15.602636  15.602636\n",
       "92     38.6  23.186407  15.413593  15.413593\n",
       "..      ...        ...        ...        ...\n",
       "208    32.7  32.639773   0.060227   0.060227\n",
       "205    33.7  33.751007  -0.051007   0.051007\n",
       "139    28.1  28.150954  -0.050954   0.050954\n",
       "181    28.4  28.367203   0.032797   0.032797\n",
       "141    28.2  28.174040   0.025960   0.025960\n",
       "\n",
       "[216 rows x 4 columns]"
      ]
     },
     "execution_count": 13,
     "metadata": {},
     "output_type": "execute_result"
    }
   ],
   "source": [
    "# Lin reg\n",
    "lr = LinearRegression()\n",
    "lr.fit(X3_train,y_train)\n",
    "print('Test R2:',lr.score(X3_test, y_test))\n",
    "# 1) Find the best and worst result from linear regression\n",
    "y_pred = lr.predict(X3_test)\n",
    "\n",
    "# Compare predictions with actual values\n",
    "comparison = pd.DataFrame({\n",
    "    'actual': y_test.iloc[:,0],\n",
    "    'predicted': y_pred[:,0],\n",
    "    'diff': y_test.iloc[:,0] - y_pred[:,0]\n",
    "})\n",
    "comparison['abs_diff'] = comparison['diff'].abs()\n",
    "print(comparison.head(10))  \n",
    "comparison.sort_values(by='abs_diff', ascending=False)"
   ]
  },
  {
   "cell_type": "code",
   "execution_count": 14,
   "id": "8aa4aa77-84e9-48f0-8bdd-7f572bf87909",
   "metadata": {},
   "outputs": [
    {
     "data": {
      "text/html": [
       "<div>\n",
       "<style scoped>\n",
       "    .dataframe tbody tr th:only-of-type {\n",
       "        vertical-align: middle;\n",
       "    }\n",
       "\n",
       "    .dataframe tbody tr th {\n",
       "        vertical-align: top;\n",
       "    }\n",
       "\n",
       "    .dataframe thead th {\n",
       "        text-align: right;\n",
       "    }\n",
       "</style>\n",
       "<table border=\"1\" class=\"dataframe\">\n",
       "  <thead>\n",
       "    <tr style=\"text-align: right;\">\n",
       "      <th></th>\n",
       "      <th>features</th>\n",
       "      <th>coeff</th>\n",
       "      <th>abs_coeff</th>\n",
       "    </tr>\n",
       "  </thead>\n",
       "  <tbody>\n",
       "    <tr>\n",
       "      <th>156</th>\n",
       "      <td>rural_population_lag4</td>\n",
       "      <td>-977.544825</td>\n",
       "      <td>977.544825</td>\n",
       "    </tr>\n",
       "    <tr>\n",
       "      <th>112</th>\n",
       "      <td>land_area_lag3</td>\n",
       "      <td>-899.372280</td>\n",
       "      <td>899.372280</td>\n",
       "    </tr>\n",
       "    <tr>\n",
       "      <th>124</th>\n",
       "      <td>rural_population_lag3</td>\n",
       "      <td>878.662927</td>\n",
       "      <td>878.662927</td>\n",
       "    </tr>\n",
       "    <tr>\n",
       "      <th>85</th>\n",
       "      <td>population_lag2</td>\n",
       "      <td>-858.187580</td>\n",
       "      <td>858.187580</td>\n",
       "    </tr>\n",
       "    <tr>\n",
       "      <th>80</th>\n",
       "      <td>land_area_lag2</td>\n",
       "      <td>805.306095</td>\n",
       "      <td>805.306095</td>\n",
       "    </tr>\n",
       "    <tr>\n",
       "      <th>...</th>\n",
       "      <td>...</td>\n",
       "      <td>...</td>\n",
       "      <td>...</td>\n",
       "    </tr>\n",
       "    <tr>\n",
       "      <th>107</th>\n",
       "      <td>government_expenditure_on_education%_lag3</td>\n",
       "      <td>-0.066915</td>\n",
       "      <td>0.066915</td>\n",
       "    </tr>\n",
       "    <tr>\n",
       "      <th>65</th>\n",
       "      <td>GDP_current_US_lag2</td>\n",
       "      <td>0.047583</td>\n",
       "      <td>0.047583</td>\n",
       "    </tr>\n",
       "    <tr>\n",
       "      <th>14</th>\n",
       "      <td>tax_revenue%</td>\n",
       "      <td>-0.047302</td>\n",
       "      <td>0.047302</td>\n",
       "    </tr>\n",
       "    <tr>\n",
       "      <th>133</th>\n",
       "      <td>central_goverment_debt%_lag4</td>\n",
       "      <td>-0.046974</td>\n",
       "      <td>0.046974</td>\n",
       "    </tr>\n",
       "    <tr>\n",
       "      <th>84</th>\n",
       "      <td>political_stability_estimate_lag2</td>\n",
       "      <td>-0.023279</td>\n",
       "      <td>0.023279</td>\n",
       "    </tr>\n",
       "  </tbody>\n",
       "</table>\n",
       "<p>160 rows × 3 columns</p>\n",
       "</div>"
      ],
      "text/plain": [
       "                                      features       coeff   abs_coeff\n",
       "156                      rural_population_lag4 -977.544825  977.544825\n",
       "112                             land_area_lag3 -899.372280  899.372280\n",
       "124                      rural_population_lag3  878.662927  878.662927\n",
       "85                             population_lag2 -858.187580  858.187580\n",
       "80                              land_area_lag2  805.306095  805.306095\n",
       "..                                         ...         ...         ...\n",
       "107  government_expenditure_on_education%_lag3   -0.066915    0.066915\n",
       "65                         GDP_current_US_lag2    0.047583    0.047583\n",
       "14                                tax_revenue%   -0.047302    0.047302\n",
       "133               central_goverment_debt%_lag4   -0.046974    0.046974\n",
       "84           political_stability_estimate_lag2   -0.023279    0.023279\n",
       "\n",
       "[160 rows x 3 columns]"
      ]
     },
     "execution_count": 14,
     "metadata": {},
     "output_type": "execute_result"
    }
   ],
   "source": [
    "# 2) Examine the coefficients (weights) learned \n",
    "results = pd.DataFrame()\n",
    "results['features'] = X3_train.columns\n",
    "results['coeff'] = lr.coef_[0]\n",
    "results['abs_coeff'] = results['coeff'].abs()\n",
    "results.sort_values(by='abs_coeff', ascending=False)"
   ]
  },
  {
   "cell_type": "markdown",
   "id": "45d0b394-0878-44a1-a911-8bdaf0fc9cfb",
   "metadata": {},
   "source": [
    "## Ridge Regression"
   ]
  },
  {
   "cell_type": "markdown",
   "id": "d15f9135-dfb2-4f70-aeeb-89bb10ee239f",
   "metadata": {},
   "source": [
    "#### X1"
   ]
  },
  {
   "cell_type": "code",
   "execution_count": 15,
   "id": "d2200368-995a-465f-85ba-d6293984275a",
   "metadata": {},
   "outputs": [
    {
     "name": "stdout",
     "output_type": "stream",
     "text": [
      "\n",
      "best alpha = {'alpha': 100}   valid R2 = 0.285\n"
     ]
    },
    {
     "data": {
      "text/plain": [
       "death_rate                              -1.849823\n",
       "research_and_development_expenditure%   -1.550463\n",
       "individuals_using_internet%             -0.996628\n",
       "rural_population                        -0.781623\n",
       "access_to_electricity%                  -0.746717\n",
       "government_expenditure_on_education%    -0.679523\n",
       "inflation_annual%                       -0.579697\n",
       "life_expectancy_at_birth                -0.511420\n",
       "expense%                                -0.497575\n",
       "political_stability_estimate            -0.468466\n",
       "real_interest_rate                      -0.458812\n",
       "rule_of_law_estimate                    -0.423233\n",
       "population_density                      -0.307288\n",
       "regulatory_quality_estimate             -0.244631\n",
       "tax_revenue%                            -0.061061\n",
       "population                              -0.055974\n",
       "goverment_effectiveness_estimate        -0.016016\n",
       "trade_in_services%                      -0.013762\n",
       "central_goverment_debt%                  0.091304\n",
       "birth_rate                               0.102340\n",
       "GDP_current_US                           0.178290\n",
       "control_of_corruption_estimate           0.273287\n",
       "military_expenditure%                    0.414754\n",
       "renewvable_energy_consumption%           0.422759\n",
       "government_health_expenditure%           0.522223\n",
       "land_area                                0.525760\n",
       "CO2_emisions                             0.637292\n",
       "other_greenhouse_emisions                0.695318\n",
       "agricultural_land%                       0.845334\n",
       "voice_and_accountability_estimate        1.348033\n",
       "intentional_homicides                    1.705555\n",
       "forest_land%                             2.172002\n",
       "dtype: float64"
      ]
     },
     "execution_count": 15,
     "metadata": {},
     "output_type": "execute_result"
    },
    {
     "data": {
      "image/png": "[encoded data removed]",
      "text/plain": [
       "<Figure size 640x480 with 1 Axes>"
      ]
     },
     "metadata": {},
     "output_type": "display_data"
    }
   ],
   "source": [
    "# regularize\n",
    "grid = {'alpha':[0.0001,0.01,0.1,1,10,100,1000,10000,100000]}\n",
    "ridge = Ridge()\n",
    "ridgeCV = GridSearchCV(ridge,param_grid=grid,return_train_score=True)\n",
    "ridgeCV.fit(X1_train,y_train)\n",
    "\n",
    "print()\n",
    "print('best alpha =',ridgeCV.best_params_, '  valid R2 =',ridgeCV.best_score_.round(3))\n",
    "\n",
    "results = pd.DataFrame()\n",
    "results['alpha'] = np.log10(grid['alpha'])\n",
    "results['train R2'] = ridgeCV.cv_results_['mean_train_score']\n",
    "results['valid R2']  = ridgeCV.cv_results_['mean_test_score']\n",
    "ax1 = results.plot.line(x='alpha',y='train R2')\n",
    "results.plot.line(x='alpha',y='valid R2',ax=ax1)\n",
    "\n",
    "ridge = ridgeCV.best_estimator_\n",
    "coef = pd.Series(ridge.coef_,index=X1_train.columns)\n",
    "coef.sort_values()"
   ]
  },
  {
   "cell_type": "code",
   "execution_count": 16,
   "id": "d0e03849-b313-4211-bcf6-74fd2c8ad533",
   "metadata": {},
   "outputs": [
    {
     "name": "stdout",
     "output_type": "stream",
     "text": [
      "Test R²: 0.34702691262387875\n"
     ]
    }
   ],
   "source": [
    "test_score = ridge.score(X1_test, y_test)\n",
    "print('Test R²:', test_score)"
   ]
  },
  {
   "cell_type": "markdown",
   "id": "df9e78bd-d372-4eca-aaf1-12f8e2f4a07f",
   "metadata": {},
   "source": [
    "#### X2"
   ]
  },
  {
   "cell_type": "code",
   "execution_count": 17,
   "id": "a94e7200-5d60-4884-846b-0fdbc7d10284",
   "metadata": {},
   "outputs": [
    {
     "name": "stdout",
     "output_type": "stream",
     "text": [
      "\n",
      "best alpha = {'alpha': 1000}   valid R2 = 0.331\n"
     ]
    },
    {
     "data": {
      "text/plain": [
       "death_rate                                       -0.476617\n",
       "death_rate_rollmean                              -0.470254\n",
       "research_and_development_expenditure%_rollmean   -0.351988\n",
       "individuals_using_internet%_rollmean             -0.334272\n",
       "research_and_development_expenditure%            -0.327260\n",
       "                                                    ...   \n",
       "forest_land%                                      0.585724\n",
       "forest_land%_rollmean                             0.593954\n",
       "forest_land%_rollstd                              0.651349\n",
       "intentional_homicides                             0.668969\n",
       "intentional_homicides_rollmean                    0.733570\n",
       "Length: 96, dtype: float64"
      ]
     },
     "execution_count": 17,
     "metadata": {},
     "output_type": "execute_result"
    },
    {
     "data": {
      "image/png": "[encoded data removed]",
      "text/plain": [
       "<Figure size 640x480 with 1 Axes>"
      ]
     },
     "metadata": {},
     "output_type": "display_data"
    }
   ],
   "source": [
    "# regularize\n",
    "grid = {'alpha':[0.0001,0.01,0.1,1,10,100,1000,10000,100000]}\n",
    "ridge = Ridge()\n",
    "ridgeCV = GridSearchCV(ridge,param_grid=grid,return_train_score=True)\n",
    "ridgeCV.fit(X2_train,y_train)\n",
    "\n",
    "print()\n",
    "print('best alpha =',ridgeCV.best_params_, '  valid R2 =',ridgeCV.best_score_.round(3))\n",
    "\n",
    "results = pd.DataFrame()\n",
    "results['alpha'] = np.log10(grid['alpha'])\n",
    "results['train R2'] = ridgeCV.cv_results_['mean_train_score']\n",
    "results['valid R2']  = ridgeCV.cv_results_['mean_test_score']\n",
    "ax1 = results.plot.line(x='alpha',y='train R2')\n",
    "results.plot.line(x='alpha',y='valid R2',ax=ax1)\n",
    "\n",
    "ridge = ridgeCV.best_estimator_\n",
    "coef = pd.Series(ridge.coef_,index=X2_train.columns)\n",
    "coef.sort_values()"
   ]
  },
  {
   "cell_type": "code",
   "execution_count": 18,
   "id": "694d1166-1ae5-457e-b59f-6513c1ff748f",
   "metadata": {},
   "outputs": [
    {
     "name": "stdout",
     "output_type": "stream",
     "text": [
      "Test R²: 0.4256191542749269\n"
     ]
    }
   ],
   "source": [
    "test_score = ridge.score(X2_test, y_test)\n",
    "print('Test R²:', test_score)"
   ]
  },
  {
   "cell_type": "markdown",
   "id": "730c0b0a-01de-43a2-b7e3-b761b29fe471",
   "metadata": {},
   "source": [
    "#### X3"
   ]
  },
  {
   "cell_type": "code",
   "execution_count": 19,
   "id": "689183fc-8a04-4561-901a-9a2bdfb06275",
   "metadata": {},
   "outputs": [
    {
     "name": "stdout",
     "output_type": "stream",
     "text": [
      "\n",
      "best alpha = {'alpha': 1000}   valid R2 = 0.327\n"
     ]
    },
    {
     "data": {
      "text/plain": [
       "death_rate_lag4                              -0.293495\n",
       "death_rate                                   -0.291075\n",
       "death_rate_lag3                              -0.284311\n",
       "research_and_development_expenditure%_lag4   -0.282330\n",
       "death_rate_lag2                              -0.279985\n",
       "                                                ...   \n",
       "forest_land%_lag2                             0.361425\n",
       "forest_land%_lag3                             0.365590\n",
       "intentional_homicides_lag3                    0.368632\n",
       "forest_land%_lag4                             0.369396\n",
       "intentional_homicides_lag4                    0.430220\n",
       "Length: 160, dtype: float64"
      ]
     },
     "execution_count": 19,
     "metadata": {},
     "output_type": "execute_result"
    },
    {
     "data": {
      "image/png": "[encoded data removed]",
      "text/plain": [
       "<Figure size 640x480 with 1 Axes>"
      ]
     },
     "metadata": {},
     "output_type": "display_data"
    }
   ],
   "source": [
    "# regularize\n",
    "grid = {'alpha':[0.0001,0.01,0.1,1,10,100,1000,10000,100000]}\n",
    "ridge = Ridge()\n",
    "ridgeCV = GridSearchCV(ridge,param_grid=grid,return_train_score=True)\n",
    "ridgeCV.fit(X3_train,y_train)\n",
    "\n",
    "print()\n",
    "print('best alpha =',ridgeCV.best_params_, '  valid R2 =',ridgeCV.best_score_.round(3))\n",
    "\n",
    "results = pd.DataFrame()\n",
    "results['alpha'] = np.log10(grid['alpha'])\n",
    "results['train R2'] = ridgeCV.cv_results_['mean_train_score']\n",
    "results['valid R2']  = ridgeCV.cv_results_['mean_test_score']\n",
    "ax1 = results.plot.line(x='alpha',y='train R2')\n",
    "results.plot.line(x='alpha',y='valid R2',ax=ax1)\n",
    "\n",
    "ridge = ridgeCV.best_estimator_\n",
    "coef = pd.Series(ridge.coef_,index=X3_train.columns)\n",
    "coef.sort_values()"
   ]
  },
  {
   "cell_type": "code",
   "execution_count": 20,
   "id": "c63babcc-733b-48fa-8244-14f21586a828",
   "metadata": {},
   "outputs": [
    {
     "name": "stdout",
     "output_type": "stream",
     "text": [
      "Test R²: 0.38434474459907064\n"
     ]
    }
   ],
   "source": [
    "test_score = ridge.score(X3_test, y_test)\n",
    "print('Test R²:', test_score)"
   ]
  },
  {
   "cell_type": "markdown",
   "id": "7d6ec6bd-7bcf-45eb-a3de-dbb69ffcd790",
   "metadata": {},
   "source": [
    "## Lasso Regression"
   ]
  },
  {
   "cell_type": "markdown",
   "id": "f3c8eb4c-2069-426c-b841-4dd1692c4a61",
   "metadata": {},
   "source": [
    "#### X1"
   ]
  },
  {
   "cell_type": "code",
   "execution_count": 21,
   "id": "847a43a3-2a65-4548-ad5f-40c77b1de18f",
   "metadata": {},
   "outputs": [
    {
     "name": "stderr",
     "output_type": "stream",
     "text": [
      "/opt/miniforge3/lib/python3.12/site-packages/sklearn/linear_model/_coordinate_descent.py:695: ConvergenceWarning: Objective did not converge. You might want to increase the number of iterations, check the scale of the features or consider increasing regularisation. Duality gap: 5.690e+03, tolerance: 3.356e+00\n",
      "  model = cd_fast.enet_coordinate_descent(\n",
      "/opt/miniforge3/lib/python3.12/site-packages/sklearn/linear_model/_coordinate_descent.py:695: ConvergenceWarning: Objective did not converge. You might want to increase the number of iterations, check the scale of the features or consider increasing regularisation. Duality gap: 5.916e+03, tolerance: 3.446e+00\n",
      "  model = cd_fast.enet_coordinate_descent(\n",
      "/opt/miniforge3/lib/python3.12/site-packages/sklearn/linear_model/_coordinate_descent.py:695: ConvergenceWarning: Objective did not converge. You might want to increase the number of iterations, check the scale of the features or consider increasing regularisation. Duality gap: 6.054e+03, tolerance: 3.982e+00\n",
      "  model = cd_fast.enet_coordinate_descent(\n",
      "/opt/miniforge3/lib/python3.12/site-packages/sklearn/linear_model/_coordinate_descent.py:695: ConvergenceWarning: Objective did not converge. You might want to increase the number of iterations, check the scale of the features or consider increasing regularisation. Duality gap: 6.024e+03, tolerance: 3.363e+00\n",
      "  model = cd_fast.enet_coordinate_descent(\n",
      "/opt/miniforge3/lib/python3.12/site-packages/sklearn/linear_model/_coordinate_descent.py:695: ConvergenceWarning: Objective did not converge. You might want to increase the number of iterations, check the scale of the features or consider increasing regularisation. Duality gap: 4.988e+03, tolerance: 3.585e+00\n",
      "  model = cd_fast.enet_coordinate_descent(\n",
      "/opt/miniforge3/lib/python3.12/site-packages/sklearn/linear_model/_coordinate_descent.py:695: ConvergenceWarning: Objective did not converge. You might want to increase the number of iterations, check the scale of the features or consider increasing regularisation. Duality gap: 6.405e+00, tolerance: 3.982e+00\n",
      "  model = cd_fast.enet_coordinate_descent(\n",
      "/opt/miniforge3/lib/python3.12/site-packages/sklearn/linear_model/_coordinate_descent.py:695: ConvergenceWarning: Objective did not converge. You might want to increase the number of iterations, check the scale of the features or consider increasing regularisation. Duality gap: 2.902e+01, tolerance: 3.363e+00\n",
      "  model = cd_fast.enet_coordinate_descent(\n",
      "/opt/miniforge3/lib/python3.12/site-packages/sklearn/linear_model/_coordinate_descent.py:695: ConvergenceWarning: Objective did not converge. You might want to increase the number of iterations, check the scale of the features or consider increasing regularisation. Duality gap: 5.002e+00, tolerance: 3.585e+00\n",
      "  model = cd_fast.enet_coordinate_descent(\n"
     ]
    },
    {
     "name": "stdout",
     "output_type": "stream",
     "text": [
      "\n",
      "best alpha = {'alpha': 1}   valid R2 = 0.173\n"
     ]
    },
    {
     "data": {
      "text/plain": [
       "individuals_using_internet%             -1.071183\n",
       "death_rate                              -0.611653\n",
       "expense%                                -0.598152\n",
       "government_expenditure_on_education%    -0.119787\n",
       "research_and_development_expenditure%   -0.099149\n",
       "renewvable_energy_consumption%           0.000000\n",
       "agricultural_land%                       0.000000\n",
       "land_area                                0.000000\n",
       "real_interest_rate                       0.000000\n",
       "CO2_emisions                             0.000000\n",
       "other_greenhouse_emisions                0.000000\n",
       "population_density                      -0.000000\n",
       "central_goverment_debt%                  0.000000\n",
       "access_to_electricity%                  -0.000000\n",
       "trade_in_services%                      -0.000000\n",
       "control_of_corruption_estimate          -0.000000\n",
       "regulatory_quality_estimate             -0.000000\n",
       "tax_revenue%                            -0.000000\n",
       "inflation_annual%                       -0.000000\n",
       "military_expenditure%                    0.000000\n",
       "GDP_current_US                           0.000000\n",
       "political_stability_estimate            -0.000000\n",
       "rule_of_law_estimate                    -0.000000\n",
       "goverment_effectiveness_estimate        -0.000000\n",
       "voice_and_accountability_estimate       -0.000000\n",
       "government_health_expenditure%          -0.000000\n",
       "life_expectancy_at_birth                -0.000000\n",
       "population                               0.000000\n",
       "rural_population                         0.000000\n",
       "birth_rate                               0.388135\n",
       "forest_land%                             1.151560\n",
       "intentional_homicides                    1.793376\n",
       "dtype: float64"
      ]
     },
     "execution_count": 21,
     "metadata": {},
     "output_type": "execute_result"
    },
    {
     "data": {
      "image/png": "[encoded data removed]",
      "text/plain": [
       "<Figure size 640x480 with 1 Axes>"
      ]
     },
     "metadata": {},
     "output_type": "display_data"
    }
   ],
   "source": [
    "# regularize\n",
    "grid = {'alpha':[0.0001,0.01,0.1,1,10,100,1000,10000,100000]}\n",
    "lasso = Lasso()\n",
    "lassoCV = GridSearchCV(lasso,param_grid=grid,return_train_score=True)\n",
    "lassoCV.fit(X1_train,y_train)\n",
    "\n",
    "print()\n",
    "print('best alpha =',lassoCV.best_params_, '  valid R2 =',lassoCV.best_score_.round(3))\n",
    "\n",
    "results = pd.DataFrame()\n",
    "results['alpha'] = np.log10(grid['alpha'])\n",
    "results['train R2'] = lassoCV.cv_results_['mean_train_score']\n",
    "results['valid R2']  = lassoCV.cv_results_['mean_test_score']\n",
    "ax1 = results.plot.line(x='alpha',y='train R2')\n",
    "results.plot.line(x='alpha',y='valid R2',ax=ax1)\n",
    "\n",
    "lasso = lassoCV.best_estimator_\n",
    "coef = pd.Series(lasso.coef_,index=X1_train.columns)\n",
    "coef.sort_values()"
   ]
  },
  {
   "cell_type": "code",
   "execution_count": 22,
   "id": "e40b3d0e-2142-41dd-b6d4-49f92cc458d1",
   "metadata": {},
   "outputs": [
    {
     "name": "stdout",
     "output_type": "stream",
     "text": [
      "Test R²: 0.31388020700290287\n"
     ]
    }
   ],
   "source": [
    "test_score = lasso.score(X1_test, y_test)\n",
    "print('Test R²:', test_score)"
   ]
  },
  {
   "cell_type": "markdown",
   "id": "3fcccfe4-5dda-4f92-84aa-de0866f95c2f",
   "metadata": {},
   "source": [
    "#### X2"
   ]
  },
  {
   "cell_type": "code",
   "execution_count": 23,
   "id": "27b87760-9f15-4868-820d-636226e57adb",
   "metadata": {},
   "outputs": [
    {
     "name": "stderr",
     "output_type": "stream",
     "text": [
      "/opt/miniforge3/lib/python3.12/site-packages/sklearn/linear_model/_coordinate_descent.py:695: ConvergenceWarning: Objective did not converge. You might want to increase the number of iterations, check the scale of the features or consider increasing regularisation. Duality gap: 4.426e+03, tolerance: 3.356e+00\n",
      "  model = cd_fast.enet_coordinate_descent(\n",
      "/opt/miniforge3/lib/python3.12/site-packages/sklearn/linear_model/_coordinate_descent.py:695: ConvergenceWarning: Objective did not converge. You might want to increase the number of iterations, check the scale of the features or consider increasing regularisation. Duality gap: 3.926e+03, tolerance: 3.446e+00\n",
      "  model = cd_fast.enet_coordinate_descent(\n",
      "/opt/miniforge3/lib/python3.12/site-packages/sklearn/linear_model/_coordinate_descent.py:695: ConvergenceWarning: Objective did not converge. You might want to increase the number of iterations, check the scale of the features or consider increasing regularisation. Duality gap: 3.907e+03, tolerance: 3.982e+00\n",
      "  model = cd_fast.enet_coordinate_descent(\n",
      "/opt/miniforge3/lib/python3.12/site-packages/sklearn/linear_model/_coordinate_descent.py:695: ConvergenceWarning: Objective did not converge. You might want to increase the number of iterations, check the scale of the features or consider increasing regularisation. Duality gap: 3.524e+03, tolerance: 3.363e+00\n",
      "  model = cd_fast.enet_coordinate_descent(\n",
      "/opt/miniforge3/lib/python3.12/site-packages/sklearn/linear_model/_coordinate_descent.py:695: ConvergenceWarning: Objective did not converge. You might want to increase the number of iterations, check the scale of the features or consider increasing regularisation. Duality gap: 3.509e+03, tolerance: 3.585e+00\n",
      "  model = cd_fast.enet_coordinate_descent(\n",
      "/opt/miniforge3/lib/python3.12/site-packages/sklearn/linear_model/_coordinate_descent.py:695: ConvergenceWarning: Objective did not converge. You might want to increase the number of iterations, check the scale of the features or consider increasing regularisation. Duality gap: 8.640e+01, tolerance: 3.356e+00\n",
      "  model = cd_fast.enet_coordinate_descent(\n",
      "/opt/miniforge3/lib/python3.12/site-packages/sklearn/linear_model/_coordinate_descent.py:695: ConvergenceWarning: Objective did not converge. You might want to increase the number of iterations, check the scale of the features or consider increasing regularisation. Duality gap: 2.451e+02, tolerance: 3.446e+00\n",
      "  model = cd_fast.enet_coordinate_descent(\n",
      "/opt/miniforge3/lib/python3.12/site-packages/sklearn/linear_model/_coordinate_descent.py:695: ConvergenceWarning: Objective did not converge. You might want to increase the number of iterations, check the scale of the features or consider increasing regularisation. Duality gap: 3.495e+02, tolerance: 3.982e+00\n",
      "  model = cd_fast.enet_coordinate_descent(\n",
      "/opt/miniforge3/lib/python3.12/site-packages/sklearn/linear_model/_coordinate_descent.py:695: ConvergenceWarning: Objective did not converge. You might want to increase the number of iterations, check the scale of the features or consider increasing regularisation. Duality gap: 1.153e+02, tolerance: 3.363e+00\n",
      "  model = cd_fast.enet_coordinate_descent(\n"
     ]
    },
    {
     "name": "stdout",
     "output_type": "stream",
     "text": [
      "\n",
      "best alpha = {'alpha': 1}   valid R2 = 0.223\n"
     ]
    },
    {
     "name": "stderr",
     "output_type": "stream",
     "text": [
      "/opt/miniforge3/lib/python3.12/site-packages/sklearn/linear_model/_coordinate_descent.py:695: ConvergenceWarning: Objective did not converge. You might want to increase the number of iterations, check the scale of the features or consider increasing regularisation. Duality gap: 3.282e+01, tolerance: 3.585e+00\n",
      "  model = cd_fast.enet_coordinate_descent(\n"
     ]
    },
    {
     "data": {
      "text/plain": [
       "individuals_using_internet%_rollmean            -0.870170\n",
       "expense%_rollmean                               -0.556844\n",
       "death_rate                                      -0.469902\n",
       "political_stability_estimate_rollmean           -0.116062\n",
       "research_and_development_expenditure%_rollstd   -0.058972\n",
       "                                                   ...   \n",
       "rule_of_law_estimate_rollstd                     0.000000\n",
       "birth_rate_rollmean                              0.399953\n",
       "forest_land%_rollmean                            0.810529\n",
       "forest_land%_rollstd                             0.939815\n",
       "intentional_homicides_rollmean                   1.867892\n",
       "Length: 96, dtype: float64"
      ]
     },
     "execution_count": 23,
     "metadata": {},
     "output_type": "execute_result"
    },
    {
     "data": {
      "image/png": "[encoded data removed]",
      "text/plain": [
       "<Figure size 640x480 with 1 Axes>"
      ]
     },
     "metadata": {},
     "output_type": "display_data"
    }
   ],
   "source": [
    "# regularize\n",
    "grid = {'alpha':[0.0001,0.01,0.1,1,10,100,1000,10000,100000]}\n",
    "lasso = Lasso()\n",
    "lassoCV = GridSearchCV(lasso,param_grid=grid,return_train_score=True)\n",
    "lassoCV.fit(X2_train,y_train)\n",
    "\n",
    "print()\n",
    "print('best alpha =',lassoCV.best_params_, '  valid R2 =',lassoCV.best_score_.round(3))\n",
    "\n",
    "results = pd.DataFrame()\n",
    "results['alpha'] = np.log10(grid['alpha'])\n",
    "results['train R2'] = lassoCV.cv_results_['mean_train_score']\n",
    "results['valid R2']  = lassoCV.cv_results_['mean_test_score']\n",
    "ax1 = results.plot.line(x='alpha',y='train R2')\n",
    "results.plot.line(x='alpha',y='valid R2',ax=ax1)\n",
    "\n",
    "lasso = lassoCV.best_estimator_\n",
    "coef = pd.Series(lasso.coef_,index=X2_train.columns)\n",
    "coef.sort_values()"
   ]
  },
  {
   "cell_type": "code",
   "execution_count": 24,
   "id": "36d53aab-eac0-474a-a6fb-15b32805ff53",
   "metadata": {},
   "outputs": [
    {
     "name": "stdout",
     "output_type": "stream",
     "text": [
      "Test R²: 0.3743432988853782\n"
     ]
    }
   ],
   "source": [
    "test_score = lasso.score(X2_test, y_test)\n",
    "print('Test R²:', test_score)"
   ]
  },
  {
   "cell_type": "markdown",
   "id": "eebea769-a13f-4249-abd2-c9088f0e5bea",
   "metadata": {},
   "source": [
    "#### X3"
   ]
  },
  {
   "cell_type": "code",
   "execution_count": 25,
   "id": "a69c4b57-e9fd-4ee0-aa36-4dc96ab546d1",
   "metadata": {},
   "outputs": [
    {
     "name": "stderr",
     "output_type": "stream",
     "text": [
      "/opt/miniforge3/lib/python3.12/site-packages/sklearn/linear_model/_coordinate_descent.py:695: ConvergenceWarning: Objective did not converge. You might want to increase the number of iterations, check the scale of the features or consider increasing regularisation. Duality gap: 4.660e+03, tolerance: 3.356e+00\n",
      "  model = cd_fast.enet_coordinate_descent(\n",
      "/opt/miniforge3/lib/python3.12/site-packages/sklearn/linear_model/_coordinate_descent.py:695: ConvergenceWarning: Objective did not converge. You might want to increase the number of iterations, check the scale of the features or consider increasing regularisation. Duality gap: 4.309e+03, tolerance: 3.446e+00\n",
      "  model = cd_fast.enet_coordinate_descent(\n",
      "/opt/miniforge3/lib/python3.12/site-packages/sklearn/linear_model/_coordinate_descent.py:695: ConvergenceWarning: Objective did not converge. You might want to increase the number of iterations, check the scale of the features or consider increasing regularisation. Duality gap: 4.438e+03, tolerance: 3.982e+00\n",
      "  model = cd_fast.enet_coordinate_descent(\n",
      "/opt/miniforge3/lib/python3.12/site-packages/sklearn/linear_model/_coordinate_descent.py:695: ConvergenceWarning: Objective did not converge. You might want to increase the number of iterations, check the scale of the features or consider increasing regularisation. Duality gap: 4.092e+03, tolerance: 3.363e+00\n",
      "  model = cd_fast.enet_coordinate_descent(\n",
      "/opt/miniforge3/lib/python3.12/site-packages/sklearn/linear_model/_coordinate_descent.py:695: ConvergenceWarning: Objective did not converge. You might want to increase the number of iterations, check the scale of the features or consider increasing regularisation. Duality gap: 4.052e+03, tolerance: 3.585e+00\n",
      "  model = cd_fast.enet_coordinate_descent(\n",
      "/opt/miniforge3/lib/python3.12/site-packages/sklearn/linear_model/_coordinate_descent.py:695: ConvergenceWarning: Objective did not converge. You might want to increase the number of iterations, check the scale of the features or consider increasing regularisation. Duality gap: 6.786e+02, tolerance: 3.356e+00\n",
      "  model = cd_fast.enet_coordinate_descent(\n",
      "/opt/miniforge3/lib/python3.12/site-packages/sklearn/linear_model/_coordinate_descent.py:695: ConvergenceWarning: Objective did not converge. You might want to increase the number of iterations, check the scale of the features or consider increasing regularisation. Duality gap: 3.361e+02, tolerance: 3.446e+00\n",
      "  model = cd_fast.enet_coordinate_descent(\n",
      "/opt/miniforge3/lib/python3.12/site-packages/sklearn/linear_model/_coordinate_descent.py:695: ConvergenceWarning: Objective did not converge. You might want to increase the number of iterations, check the scale of the features or consider increasing regularisation. Duality gap: 5.202e+02, tolerance: 3.982e+00\n",
      "  model = cd_fast.enet_coordinate_descent(\n",
      "/opt/miniforge3/lib/python3.12/site-packages/sklearn/linear_model/_coordinate_descent.py:695: ConvergenceWarning: Objective did not converge. You might want to increase the number of iterations, check the scale of the features or consider increasing regularisation. Duality gap: 5.186e+02, tolerance: 3.363e+00\n",
      "  model = cd_fast.enet_coordinate_descent(\n",
      "/opt/miniforge3/lib/python3.12/site-packages/sklearn/linear_model/_coordinate_descent.py:695: ConvergenceWarning: Objective did not converge. You might want to increase the number of iterations, check the scale of the features or consider increasing regularisation. Duality gap: 4.183e+02, tolerance: 3.585e+00\n",
      "  model = cd_fast.enet_coordinate_descent(\n"
     ]
    },
    {
     "name": "stdout",
     "output_type": "stream",
     "text": [
      "\n",
      "best alpha = {'alpha': 1}   valid R2 = 0.2\n"
     ]
    },
    {
     "data": {
      "text/plain": [
       "individuals_using_internet%_lag4         -0.934249\n",
       "death_rate                               -0.534435\n",
       "expense%_lag1                            -0.302047\n",
       "political_stability_estimate_lag4        -0.263324\n",
       "expense%_lag4                            -0.118577\n",
       "                                            ...   \n",
       "rule_of_law_estimate_lag4                -0.000000\n",
       "voice_and_accountability_estimate_lag4   -0.000000\n",
       "birth_rate_lag4                           0.680174\n",
       "forest_land%_lag4                         1.142208\n",
       "intentional_homicides_lag4                1.904923\n",
       "Length: 160, dtype: float64"
      ]
     },
     "execution_count": 25,
     "metadata": {},
     "output_type": "execute_result"
    },
    {
     "data": {
      "image/png": "[encoded data removed]",
      "text/plain": [
       "<Figure size 640x480 with 1 Axes>"
      ]
     },
     "metadata": {},
     "output_type": "display_data"
    }
   ],
   "source": [
    "# regularize\n",
    "grid = {'alpha':[0.0001,0.01,0.1,1,10,100,1000,10000,100000]}\n",
    "lasso = Lasso()\n",
    "lassoCV = GridSearchCV(lasso,param_grid=grid,return_train_score=True)\n",
    "lassoCV.fit(X3_train,y_train)\n",
    "\n",
    "print()\n",
    "print('best alpha =',lassoCV.best_params_, '  valid R2 =',lassoCV.best_score_.round(3))\n",
    "\n",
    "results = pd.DataFrame()\n",
    "results['alpha'] = np.log10(grid['alpha'])\n",
    "results['train R2'] = lassoCV.cv_results_['mean_train_score']\n",
    "results['valid R2']  = lassoCV.cv_results_['mean_test_score']\n",
    "ax1 = results.plot.line(x='alpha',y='train R2')\n",
    "results.plot.line(x='alpha',y='valid R2',ax=ax1)\n",
    "\n",
    "lasso = lassoCV.best_estimator_\n",
    "coef = pd.Series(lasso.coef_,index=X3_train.columns)\n",
    "coef.sort_values()"
   ]
  },
  {
   "cell_type": "code",
   "execution_count": 26,
   "id": "c8f90d86-ad1c-4eac-8812-d4a6fbf701d3",
   "metadata": {},
   "outputs": [
    {
     "name": "stdout",
     "output_type": "stream",
     "text": [
      "Test R²: 0.33265702855850166\n"
     ]
    }
   ],
   "source": [
    "test_score = lasso.score(X3_test, y_test)\n",
    "print('Test R²:', test_score)"
   ]
  },
  {
   "cell_type": "markdown",
   "id": "be1ebe26-427a-4c65-83b3-a7a956949b4f",
   "metadata": {},
   "source": [
    "## Conclusion"
   ]
  },
  {
   "cell_type": "markdown",
   "id": "4bc902be-4a09-49f8-b510-e6fa8897c7b3",
   "metadata": {},
   "source": [
    "Using the cleaned World Bank data, linear regression performed the best out of the four regressors used with an R2 of 53.5%. The feature that had the highest weight for the linear regressor was land_area."
   ]
  },
  {
   "cell_type": "markdown",
   "id": "3b6e99f0-712b-4e88-9b7f-3962cb75a145",
   "metadata": {},
   "source": [
    "### Extra: Running Linear Regression on the PCA data"
   ]
  },
  {
   "cell_type": "code",
   "execution_count": 27,
   "id": "bef191d8-ba94-4817-a203-15eaeaddb24f",
   "metadata": {},
   "outputs": [
    {
     "ename": "FileNotFoundError",
     "evalue": "[Errno 2] No such file or directory: 'X_train_pca.csv'",
     "output_type": "error",
     "traceback": [
      "\u001b[31m---------------------------------------------------------------------------\u001b[39m",
      "\u001b[31mFileNotFoundError\u001b[39m                         Traceback (most recent call last)",
      "\u001b[36mCell\u001b[39m\u001b[36m \u001b[39m\u001b[32mIn[27]\u001b[39m\u001b[32m, line 1\u001b[39m\n\u001b[32m----> \u001b[39m\u001b[32m1\u001b[39m X_train_pca = \u001b[43mpd\u001b[49m\u001b[43m.\u001b[49m\u001b[43mread_csv\u001b[49m\u001b[43m(\u001b[49m\u001b[33;43m'\u001b[39;49m\u001b[33;43mX_train_pca.csv\u001b[39;49m\u001b[33;43m'\u001b[39;49m\u001b[43m)\u001b[49m\n\u001b[32m      2\u001b[39m \u001b[38;5;28mprint\u001b[39m(X_train_pca.shape)\n\u001b[32m      3\u001b[39m X_train_pca.head(\u001b[32m3\u001b[39m)\n",
      "\u001b[36mFile \u001b[39m\u001b[32m/opt/miniforge3/lib/python3.12/site-packages/pandas/io/parsers/readers.py:1026\u001b[39m, in \u001b[36mread_csv\u001b[39m\u001b[34m(filepath_or_buffer, sep, delimiter, header, names, index_col, usecols, dtype, engine, converters, true_values, false_values, skipinitialspace, skiprows, skipfooter, nrows, na_values, keep_default_na, na_filter, verbose, skip_blank_lines, parse_dates, infer_datetime_format, keep_date_col, date_parser, date_format, dayfirst, cache_dates, iterator, chunksize, compression, thousands, decimal, lineterminator, quotechar, quoting, doublequote, escapechar, comment, encoding, encoding_errors, dialect, on_bad_lines, delim_whitespace, low_memory, memory_map, float_precision, storage_options, dtype_backend)\u001b[39m\n\u001b[32m   1013\u001b[39m kwds_defaults = _refine_defaults_read(\n\u001b[32m   1014\u001b[39m     dialect,\n\u001b[32m   1015\u001b[39m     delimiter,\n\u001b[32m   (...)\u001b[39m\u001b[32m   1022\u001b[39m     dtype_backend=dtype_backend,\n\u001b[32m   1023\u001b[39m )\n\u001b[32m   1024\u001b[39m kwds.update(kwds_defaults)\n\u001b[32m-> \u001b[39m\u001b[32m1026\u001b[39m \u001b[38;5;28;01mreturn\u001b[39;00m \u001b[43m_read\u001b[49m\u001b[43m(\u001b[49m\u001b[43mfilepath_or_buffer\u001b[49m\u001b[43m,\u001b[49m\u001b[43m \u001b[49m\u001b[43mkwds\u001b[49m\u001b[43m)\u001b[49m\n",
      "\u001b[36mFile \u001b[39m\u001b[32m/opt/miniforge3/lib/python3.12/site-packages/pandas/io/parsers/readers.py:620\u001b[39m, in \u001b[36m_read\u001b[39m\u001b[34m(filepath_or_buffer, kwds)\u001b[39m\n\u001b[32m    617\u001b[39m _validate_names(kwds.get(\u001b[33m\"\u001b[39m\u001b[33mnames\u001b[39m\u001b[33m\"\u001b[39m, \u001b[38;5;28;01mNone\u001b[39;00m))\n\u001b[32m    619\u001b[39m \u001b[38;5;66;03m# Create the parser.\u001b[39;00m\n\u001b[32m--> \u001b[39m\u001b[32m620\u001b[39m parser = \u001b[43mTextFileReader\u001b[49m\u001b[43m(\u001b[49m\u001b[43mfilepath_or_buffer\u001b[49m\u001b[43m,\u001b[49m\u001b[43m \u001b[49m\u001b[43m*\u001b[49m\u001b[43m*\u001b[49m\u001b[43mkwds\u001b[49m\u001b[43m)\u001b[49m\n\u001b[32m    622\u001b[39m \u001b[38;5;28;01mif\u001b[39;00m chunksize \u001b[38;5;129;01mor\u001b[39;00m iterator:\n\u001b[32m    623\u001b[39m     \u001b[38;5;28;01mreturn\u001b[39;00m parser\n",
      "\u001b[36mFile \u001b[39m\u001b[32m/opt/miniforge3/lib/python3.12/site-packages/pandas/io/parsers/readers.py:1620\u001b[39m, in \u001b[36mTextFileReader.__init__\u001b[39m\u001b[34m(self, f, engine, **kwds)\u001b[39m\n\u001b[32m   1617\u001b[39m     \u001b[38;5;28mself\u001b[39m.options[\u001b[33m\"\u001b[39m\u001b[33mhas_index_names\u001b[39m\u001b[33m\"\u001b[39m] = kwds[\u001b[33m\"\u001b[39m\u001b[33mhas_index_names\u001b[39m\u001b[33m\"\u001b[39m]\n\u001b[32m   1619\u001b[39m \u001b[38;5;28mself\u001b[39m.handles: IOHandles | \u001b[38;5;28;01mNone\u001b[39;00m = \u001b[38;5;28;01mNone\u001b[39;00m\n\u001b[32m-> \u001b[39m\u001b[32m1620\u001b[39m \u001b[38;5;28mself\u001b[39m._engine = \u001b[38;5;28;43mself\u001b[39;49m\u001b[43m.\u001b[49m\u001b[43m_make_engine\u001b[49m\u001b[43m(\u001b[49m\u001b[43mf\u001b[49m\u001b[43m,\u001b[49m\u001b[43m \u001b[49m\u001b[38;5;28;43mself\u001b[39;49m\u001b[43m.\u001b[49m\u001b[43mengine\u001b[49m\u001b[43m)\u001b[49m\n",
      "\u001b[36mFile \u001b[39m\u001b[32m/opt/miniforge3/lib/python3.12/site-packages/pandas/io/parsers/readers.py:1880\u001b[39m, in \u001b[36mTextFileReader._make_engine\u001b[39m\u001b[34m(self, f, engine)\u001b[39m\n\u001b[32m   1878\u001b[39m     \u001b[38;5;28;01mif\u001b[39;00m \u001b[33m\"\u001b[39m\u001b[33mb\u001b[39m\u001b[33m\"\u001b[39m \u001b[38;5;129;01mnot\u001b[39;00m \u001b[38;5;129;01min\u001b[39;00m mode:\n\u001b[32m   1879\u001b[39m         mode += \u001b[33m\"\u001b[39m\u001b[33mb\u001b[39m\u001b[33m\"\u001b[39m\n\u001b[32m-> \u001b[39m\u001b[32m1880\u001b[39m \u001b[38;5;28mself\u001b[39m.handles = \u001b[43mget_handle\u001b[49m\u001b[43m(\u001b[49m\n\u001b[32m   1881\u001b[39m \u001b[43m    \u001b[49m\u001b[43mf\u001b[49m\u001b[43m,\u001b[49m\n\u001b[32m   1882\u001b[39m \u001b[43m    \u001b[49m\u001b[43mmode\u001b[49m\u001b[43m,\u001b[49m\n\u001b[32m   1883\u001b[39m \u001b[43m    \u001b[49m\u001b[43mencoding\u001b[49m\u001b[43m=\u001b[49m\u001b[38;5;28;43mself\u001b[39;49m\u001b[43m.\u001b[49m\u001b[43moptions\u001b[49m\u001b[43m.\u001b[49m\u001b[43mget\u001b[49m\u001b[43m(\u001b[49m\u001b[33;43m\"\u001b[39;49m\u001b[33;43mencoding\u001b[39;49m\u001b[33;43m\"\u001b[39;49m\u001b[43m,\u001b[49m\u001b[43m \u001b[49m\u001b[38;5;28;43;01mNone\u001b[39;49;00m\u001b[43m)\u001b[49m\u001b[43m,\u001b[49m\n\u001b[32m   1884\u001b[39m \u001b[43m    \u001b[49m\u001b[43mcompression\u001b[49m\u001b[43m=\u001b[49m\u001b[38;5;28;43mself\u001b[39;49m\u001b[43m.\u001b[49m\u001b[43moptions\u001b[49m\u001b[43m.\u001b[49m\u001b[43mget\u001b[49m\u001b[43m(\u001b[49m\u001b[33;43m\"\u001b[39;49m\u001b[33;43mcompression\u001b[39;49m\u001b[33;43m\"\u001b[39;49m\u001b[43m,\u001b[49m\u001b[43m \u001b[49m\u001b[38;5;28;43;01mNone\u001b[39;49;00m\u001b[43m)\u001b[49m\u001b[43m,\u001b[49m\n\u001b[32m   1885\u001b[39m \u001b[43m    \u001b[49m\u001b[43mmemory_map\u001b[49m\u001b[43m=\u001b[49m\u001b[38;5;28;43mself\u001b[39;49m\u001b[43m.\u001b[49m\u001b[43moptions\u001b[49m\u001b[43m.\u001b[49m\u001b[43mget\u001b[49m\u001b[43m(\u001b[49m\u001b[33;43m\"\u001b[39;49m\u001b[33;43mmemory_map\u001b[39;49m\u001b[33;43m\"\u001b[39;49m\u001b[43m,\u001b[49m\u001b[43m \u001b[49m\u001b[38;5;28;43;01mFalse\u001b[39;49;00m\u001b[43m)\u001b[49m\u001b[43m,\u001b[49m\n\u001b[32m   1886\u001b[39m \u001b[43m    \u001b[49m\u001b[43mis_text\u001b[49m\u001b[43m=\u001b[49m\u001b[43mis_text\u001b[49m\u001b[43m,\u001b[49m\n\u001b[32m   1887\u001b[39m \u001b[43m    \u001b[49m\u001b[43merrors\u001b[49m\u001b[43m=\u001b[49m\u001b[38;5;28;43mself\u001b[39;49m\u001b[43m.\u001b[49m\u001b[43moptions\u001b[49m\u001b[43m.\u001b[49m\u001b[43mget\u001b[49m\u001b[43m(\u001b[49m\u001b[33;43m\"\u001b[39;49m\u001b[33;43mencoding_errors\u001b[39;49m\u001b[33;43m\"\u001b[39;49m\u001b[43m,\u001b[49m\u001b[43m \u001b[49m\u001b[33;43m\"\u001b[39;49m\u001b[33;43mstrict\u001b[39;49m\u001b[33;43m\"\u001b[39;49m\u001b[43m)\u001b[49m\u001b[43m,\u001b[49m\n\u001b[32m   1888\u001b[39m \u001b[43m    \u001b[49m\u001b[43mstorage_options\u001b[49m\u001b[43m=\u001b[49m\u001b[38;5;28;43mself\u001b[39;49m\u001b[43m.\u001b[49m\u001b[43moptions\u001b[49m\u001b[43m.\u001b[49m\u001b[43mget\u001b[49m\u001b[43m(\u001b[49m\u001b[33;43m\"\u001b[39;49m\u001b[33;43mstorage_options\u001b[39;49m\u001b[33;43m\"\u001b[39;49m\u001b[43m,\u001b[49m\u001b[43m \u001b[49m\u001b[38;5;28;43;01mNone\u001b[39;49;00m\u001b[43m)\u001b[49m\u001b[43m,\u001b[49m\n\u001b[32m   1889\u001b[39m \u001b[43m\u001b[49m\u001b[43m)\u001b[49m\n\u001b[32m   1890\u001b[39m \u001b[38;5;28;01massert\u001b[39;00m \u001b[38;5;28mself\u001b[39m.handles \u001b[38;5;129;01mis\u001b[39;00m \u001b[38;5;129;01mnot\u001b[39;00m \u001b[38;5;28;01mNone\u001b[39;00m\n\u001b[32m   1891\u001b[39m f = \u001b[38;5;28mself\u001b[39m.handles.handle\n",
      "\u001b[36mFile \u001b[39m\u001b[32m/opt/miniforge3/lib/python3.12/site-packages/pandas/io/common.py:873\u001b[39m, in \u001b[36mget_handle\u001b[39m\u001b[34m(path_or_buf, mode, encoding, compression, memory_map, is_text, errors, storage_options)\u001b[39m\n\u001b[32m    868\u001b[39m \u001b[38;5;28;01melif\u001b[39;00m \u001b[38;5;28misinstance\u001b[39m(handle, \u001b[38;5;28mstr\u001b[39m):\n\u001b[32m    869\u001b[39m     \u001b[38;5;66;03m# Check whether the filename is to be opened in binary mode.\u001b[39;00m\n\u001b[32m    870\u001b[39m     \u001b[38;5;66;03m# Binary mode does not support 'encoding' and 'newline'.\u001b[39;00m\n\u001b[32m    871\u001b[39m     \u001b[38;5;28;01mif\u001b[39;00m ioargs.encoding \u001b[38;5;129;01mand\u001b[39;00m \u001b[33m\"\u001b[39m\u001b[33mb\u001b[39m\u001b[33m\"\u001b[39m \u001b[38;5;129;01mnot\u001b[39;00m \u001b[38;5;129;01min\u001b[39;00m ioargs.mode:\n\u001b[32m    872\u001b[39m         \u001b[38;5;66;03m# Encoding\u001b[39;00m\n\u001b[32m--> \u001b[39m\u001b[32m873\u001b[39m         handle = \u001b[38;5;28;43mopen\u001b[39;49m\u001b[43m(\u001b[49m\n\u001b[32m    874\u001b[39m \u001b[43m            \u001b[49m\u001b[43mhandle\u001b[49m\u001b[43m,\u001b[49m\n\u001b[32m    875\u001b[39m \u001b[43m            \u001b[49m\u001b[43mioargs\u001b[49m\u001b[43m.\u001b[49m\u001b[43mmode\u001b[49m\u001b[43m,\u001b[49m\n\u001b[32m    876\u001b[39m \u001b[43m            \u001b[49m\u001b[43mencoding\u001b[49m\u001b[43m=\u001b[49m\u001b[43mioargs\u001b[49m\u001b[43m.\u001b[49m\u001b[43mencoding\u001b[49m\u001b[43m,\u001b[49m\n\u001b[32m    877\u001b[39m \u001b[43m            \u001b[49m\u001b[43merrors\u001b[49m\u001b[43m=\u001b[49m\u001b[43merrors\u001b[49m\u001b[43m,\u001b[49m\n\u001b[32m    878\u001b[39m \u001b[43m            \u001b[49m\u001b[43mnewline\u001b[49m\u001b[43m=\u001b[49m\u001b[33;43m\"\u001b[39;49m\u001b[33;43m\"\u001b[39;49m\u001b[43m,\u001b[49m\n\u001b[32m    879\u001b[39m \u001b[43m        \u001b[49m\u001b[43m)\u001b[49m\n\u001b[32m    880\u001b[39m     \u001b[38;5;28;01melse\u001b[39;00m:\n\u001b[32m    881\u001b[39m         \u001b[38;5;66;03m# Binary mode\u001b[39;00m\n\u001b[32m    882\u001b[39m         handle = \u001b[38;5;28mopen\u001b[39m(handle, ioargs.mode)\n",
      "\u001b[31mFileNotFoundError\u001b[39m: [Errno 2] No such file or directory: 'X_train_pca.csv'"
     ]
    }
   ],
   "source": [
    "X_train_pca = pd.read_csv('X_train_pca.csv')\n",
    "print(X_train_pca.shape)\n",
    "X_train_pca.head(3)"
   ]
  },
  {
   "cell_type": "code",
   "execution_count": null,
   "id": "0d241e59-ac7c-4238-ac72-b05ab25054fa",
   "metadata": {},
   "outputs": [],
   "source": [
    "X_test_pca = pd.read_csv('X_test_pca.csv')\n",
    "print(X_test_pca.shape)\n",
    "X_test_pca.head(3)"
   ]
  },
  {
   "cell_type": "code",
   "execution_count": null,
   "id": "5d08b32f-9a68-4469-9bb7-5a1d0bba3e47",
   "metadata": {},
   "outputs": [],
   "source": [
    "# Lin reg\n",
    "lr = LinearRegression()\n",
    "lr.fit(X_train_pca,y_train)\n",
    "print('Test R2:',lr.score(X_test_pca, y_test))"
   ]
  },
  {
   "cell_type": "code",
   "execution_count": null,
   "id": "610d1fe3-7bc3-4e18-8f3e-a48f6e037c32",
   "metadata": {},
   "outputs": [],
   "source": [
    "# 1) Find the best and worst result from linear regression\n",
    "y_pred = lr.predict(X_test_pca)\n",
    "\n",
    "# Compare predictions with actual values\n",
    "comparison = pd.DataFrame({\n",
    "    'actual': y_test.iloc[:,0],\n",
    "    'predicted': y_pred[:,0],\n",
    "    'diff': y_test.iloc[:,0] - y_pred[:,0]\n",
    "})\n",
    "comparison['abs_diff'] = comparison['diff'].abs()\n",
    "print(comparison.head(10))  \n",
    "comparison.sort_values(by='abs_diff', ascending=False)"
   ]
  },
  {
   "cell_type": "code",
   "execution_count": null,
   "id": "68279ca4-675b-47f8-a090-1ec7102980cc",
   "metadata": {},
   "outputs": [],
   "source": [
    "# 2) Examine the coefficients (weights) learned \n",
    "results = pd.DataFrame()\n",
    "results['features'] = X_train_pca.columns\n",
    "results['coeff'] = lr.coef_[0]\n",
    "results['abs_coeff'] = results['coeff'].abs()\n",
    "results.sort_values(by='abs_coeff', ascending=False)"
   ]
  },
  {
   "cell_type": "markdown",
   "id": "89d3a547-1387-418e-a4ca-7daaf304e7d6",
   "metadata": {},
   "source": [
    "The linear regressor trained on the data after PCA performed worse than the data without PCA (test R2 of 38.9% vs 53.5%), making the linear regressor on the normal data a better model to use due its higher accuracy and more straightforward explainability."
   ]
  }
 ],
 "metadata": {
  "kernelspec": {
   "display_name": "Python 3 (ipykernel)",
   "language": "python",
   "name": "python3"
  },
  "language_info": {
   "codemirror_mode": {
    "name": "ipython",
    "version": 3
   },
   "file_extension": ".py",
   "mimetype": "text/x-python",
   "name": "python",
   "nbconvert_exporter": "python",
   "pygments_lexer": "ipython3",
   "version": "3.12.9"
  }
 },
 "nbformat": 4,
 "nbformat_minor": 5
}
