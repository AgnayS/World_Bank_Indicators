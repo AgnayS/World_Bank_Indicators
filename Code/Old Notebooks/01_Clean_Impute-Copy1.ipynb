{
 "cells": [
  {
   "cell_type": "code",
   "execution_count": 1,
   "id": "9f50b72a-f3aa-46fb-9b6a-36d029676dc4",
   "metadata": {},
   "outputs": [],
   "source": [
    "import numpy as np\n",
    "import pandas as pd\n",
    "import seaborn as sns\n",
    "import matplotlib.pyplot as plt\n",
    "from sklearn.preprocessing import StandardScaler\n",
    "from sklearn.model_selection import train_test_split, GridSearchCV \n",
    "from sklearn.linear_model import LinearRegression\n",
    "from sklearn.neighbors import KNeighborsRegressor\n",
    "from sklearn.metrics import r2_score, mean_squared_error\n",
    "from sklearn.impute import KNNImputer\n",
    "from sklearn.experimental import enable_iterative_imputer  # noqa\n",
    "from sklearn.impute import IterativeImputer\n",
    "from sklearn.ensemble import RandomForestRegressor\n",
    "from sklearn.preprocessing  import StandardScaler\n",
    "from sklearn.model_selection import GroupShuffleSplit\n",
    "from sklearn.impute import SimpleImputer"
   ]
  },
  {
   "cell_type": "code",
   "execution_count": 2,
   "id": "f60e1410-9b72-42c2-a8c0-e0dd0f611d5c",
   "metadata": {},
   "outputs": [
    {
     "name": "stdout",
     "output_type": "stream",
     "text": [
      "Data covers: 2002 → 2020\n"
     ]
    }
   ],
   "source": [
    "# Raw load\n",
    "df = pd.read_csv(\"world_bank.csv\")\n",
    "\n",
    "# Parse date & helper 'year' column\n",
    "df['date'] = pd.to_datetime(df['date'], errors='coerce')\n",
    "df['year'] = df['date'].dt.year\n",
    "\n",
    "# Keep 2002‑2020 window\n",
    "df = df[df['year'].between(2002, 2020)].copy()\n",
    "\n",
    "print(\"Data covers:\", df['year'].min(), \"→\", df['year'].max())"
   ]
  },
  {
   "cell_type": "code",
   "execution_count": 4,
   "id": "007e3848-a50a-45ae-88c0-4f9bba5eca04",
   "metadata": {},
   "outputs": [],
   "source": [
    "# ──────────────────────────────────────────────────────────────\n",
    "# Cell 2  ▸  Drop ultra‑sparse / discontinued features\n",
    "# -----------------------------------------------------------------\n",
    "columns_to_drop = [\n",
    "    'doing_business', 'time_to_get_operation_license',\n",
    "    'multidimensional_poverty_headcount_ratio%', 'human_capital_index',\n",
    "    'risk_premium_on_lending', 'electric_power_consumption',\n",
    "    'logistic_performance_index', 'statistical_performance_indicators',\n",
    "    'avg_precipitation',\n",
    "    'goverment_effectiveness_std', 'regulatory_quality_std',\n",
    "    'voice_and_accountability_std', 'control_of_corruption_std',\n",
    "    'rule_of_law_std', 'political_stability_std'\n",
    "]\n",
    "df.drop(columns=columns_to_drop, inplace=True)\n"
   ]
  },
  {
   "cell_type": "code",
   "execution_count": 5,
   "id": "dace43a2-85c1-4e24-ba61-4b314b7b6a95",
   "metadata": {},
   "outputs": [],
   "source": [
    "# ──────────────────────────────────────────────────────────────\n",
    "# Cell 3  ▸  Remove countries with ≥ 90 % missing data\n",
    "# -----------------------------------------------------------------\n",
    "pct_missing = (\n",
    "    df.isna().groupby(df['country']).mean().mean(axis=1)\n",
    ")                                # % missing over all columns\n",
    "\n",
    "ghost_cty = pct_missing[pct_missing >= 0.90].index\n",
    "df = df[~df['country'].isin(ghost_cty)].copy()\n"
   ]
  },
  {
   "cell_type": "code",
   "execution_count": 6,
   "id": "d4f99380-da43-4150-8f7e-210ea30607b7",
   "metadata": {},
   "outputs": [],
   "source": [
    "# ──────────────────────────────────────────────────────────────\n",
    "# Cell 4  ▸  Drop any country that never reports a Gini value\n",
    "# -----------------------------------------------------------------\n",
    "has_gini = df.groupby('country')['gini_index'].transform('count') > 0\n",
    "df = df[has_gini].copy()\n"
   ]
  },
  {
   "cell_type": "code",
   "execution_count": 7,
   "id": "0ce946e3-44b0-4e74-b710-f24e351ad63a",
   "metadata": {},
   "outputs": [],
   "source": [
    "# ──────────────────────────────────────────────────────────────\n",
    "# Cell 5  ▸  Per‑country mean imputation  + 5‑year rolling stats\n",
    "# -----------------------------------------------------------------\n",
    "#   Step 1  : fill NaNs with **country‑specific** means\n",
    "#   Step 2  : fallback to **global** means\n",
    "#   Step 3  : add 5‑year rolling mean & std (need ≥5 obs)\n",
    "#   Step 4  : keep rows from 2007 onward\n",
    "# -----------------------------------------------------------------\n",
    "impute_cols = df.columns.difference(['country', 'date', 'year', 'gini_index'])\n",
    "\n",
    "df_mean = df.copy()\n",
    "\n",
    "# 1️⃣  country‑mean impute\n",
    "df_mean[impute_cols] = (\n",
    "    df_mean.groupby('country')[impute_cols]\n",
    "           .transform(lambda g: g.fillna(g.mean()))\n",
    ")\n",
    "\n",
    "# 2️⃣  global fallback\n",
    "df_mean[impute_cols] = df_mean[impute_cols].fillna(df_mean[impute_cols].mean())\n",
    "\n",
    "# 3️⃣  5‑year rolling stats\n",
    "df_mean = df_mean.sort_values(['country', 'date'])\n",
    "rolled = (\n",
    "    df_mean.groupby('country')[impute_cols]\n",
    "           .rolling(window=5, min_periods=5)\n",
    ")\n",
    "\n",
    "df_mean[[f'{c}_rolling_mean' for c in impute_cols]] = (\n",
    "    rolled.mean().reset_index(level=0, drop=True)\n",
    ")\n",
    "df_mean[[f'{c}_rolling_std' for c in impute_cols]] = (\n",
    "    rolled.std().reset_index(level=0, drop=True)\n",
    ")\n",
    "\n",
    "#   Re‑impute any NaNs introduced by rolling (first 4 years)\n",
    "new_cols = [f'{c}_rolling_mean' for c in impute_cols] + \\\n",
    "           [f'{c}_rolling_std'  for c in impute_cols]\n",
    "\n",
    "df_mean[new_cols] = (\n",
    "    df_mean.groupby('country')[new_cols]\n",
    "           .transform(lambda g: g.fillna(g.mean()))\n",
    ")\n",
    "\n",
    "# 4️⃣  keep ≥2007\n",
    "df_mean = df_mean[df_mean['year'] >= 2007].reset_index(drop=True)\n"
   ]
  },
  {
   "cell_type": "code",
   "execution_count": 8,
   "id": "f950dc03-70a7-4ade-bd71-5b6b5ad95fbc",
   "metadata": {},
   "outputs": [
    {
     "name": "stdout",
     "output_type": "stream",
     "text": [
      "Columns still missing after imputation:\n",
      " gini_index    51.88\n",
      "dtype: float64\n"
     ]
    }
   ],
   "source": [
    "# ──────────────────────────────────────────────────────────────\n",
    "# Cell 6  ▸  Quick missing‑value sanity check\n",
    "# -----------------------------------------------------------------\n",
    "missing_pct = df_mean.isna().mean().mul(100)\n",
    "print(\"Columns still missing after imputation:\\n\",\n",
    "      missing_pct[missing_pct > 0].round(2))\n"
   ]
  },
  {
   "cell_type": "code",
   "execution_count": 9,
   "id": "626e0981-3f49-4404-97ec-d36e18561cd2",
   "metadata": {},
   "outputs": [],
   "source": [
    "# ──────────────────────────────────────────────────────────────\n",
    "# Cell 7  ▸  Build modelling table  •  create gini_next\n",
    "# -----------------------------------------------------------------\n",
    "df_work = df_mean.sort_values(['country', 'date']).copy()\n",
    "df_work['gini_next'] = (\n",
    "    df_work.groupby('country')['gini_index'].shift(-1)\n",
    ")\n",
    "\n",
    "model_df = df_work[df_work['gini_next'].notna()].reset_index(drop=True)\n"
   ]
  },
  {
   "cell_type": "code",
   "execution_count": 10,
   "id": "3570bd58-1966-4055-ac38-871cd16351c8",
   "metadata": {},
   "outputs": [
    {
     "name": "stdout",
     "output_type": "stream",
     "text": [
      "Train: (813, 96) | Test: (216, 96)\n"
     ]
    }
   ],
   "source": [
    "# ──────────────────────────────────────────────────────────────\n",
    "# Cell 8  ▸  Grouped 80‑20 train/test split  +  scaling\n",
    "# -----------------------------------------------------------------\n",
    "X_full = model_df.drop(columns=['gini_index', 'gini_next'])\n",
    "y_full = model_df['gini_next']\n",
    "groups = model_df['country']\n",
    "\n",
    "gss = GroupShuffleSplit(test_size=0.2, random_state=42)\n",
    "train_idx, test_idx = next(gss.split(X_full, y_full, groups=groups))\n",
    "\n",
    "X_train, X_test = X_full.iloc[train_idx].copy(), X_full.iloc[test_idx].copy()\n",
    "y_train, y_test = y_full.iloc[train_idx],           y_full.iloc[test_idx]\n",
    "\n",
    "# drop helpers\n",
    "X_train.drop(columns=['country', 'date', 'year'], inplace=True, errors='ignore')\n",
    "X_test .drop(columns=['country', 'date', 'year'], inplace=True, errors='ignore')\n",
    "\n",
    "# mean‑impute any leftover NaNs (rare after step 5)\n",
    "imp = SimpleImputer(strategy='mean')\n",
    "X_train.iloc[:] = imp.fit_transform(X_train)\n",
    "X_test .iloc[:] = imp.transform(X_test)\n",
    "\n",
    "# scale\n",
    "scaler = StandardScaler().set_output(transform='pandas')\n",
    "X_train = scaler.fit_transform(X_train)\n",
    "X_test  = scaler.transform(X_test)\n",
    "\n",
    "assert X_train.isna().sum().sum() == 0\n",
    "assert X_test.isna().sum().sum()  == 0\n",
    "print(\"Train:\", X_train.shape, \"| Test:\", X_test.shape)\n"
   ]
  },
  {
   "cell_type": "code",
   "execution_count": 11,
   "id": "625f364c-4db5-48bd-b9df-a9eb02b5d836",
   "metadata": {},
   "outputs": [],
   "source": [
    "# ──────────────────────────────────────────────────────────────\n",
    "# Cell 9  ▸  Save the prepared train / test splits as CSV files\n",
    "# -----------------------------------------------------------------\n",
    "#  Files will be written to the *current working directory*—i.e.,\n",
    "#  the same folder where your Jupyter notebook lives.\n",
    "# -----------------------------------------------------------------\n",
    "\n",
    "# Convert y‑vectors to DataFrames so they save cleanly with a column name\n",
    "y_train_df = y_train.to_frame(name='gini_next')\n",
    "y_test_df  = y_test.to_frame(name='gini_next')\n",
    "\n",
    "# X_train.to_csv('X_train.csv', index=False)\n",
    "# X_test .to_csv('X_test.csv',  index=False)\n",
    "# y_train_df.to_csv('y_train.csv', index=False)\n",
    "# y_test_df .to_csv('y_test.csv',  index=False)\n",
    "\n",
    "\n"
   ]
  },
  {
   "cell_type": "code",
   "execution_count": 12,
   "id": "fa207f6b-ff24-4f89-bbfe-891302d6ea64",
   "metadata": {},
   "outputs": [
    {
     "name": "stdout",
     "output_type": "stream",
     "text": [
      "First PC explains      : 23.27%\n",
      "29 components ≥90 % variance\n",
      "38 components ≥95 % variance\n",
      "Shapes  →  X_train_pca: (813, 29) | X_test_pca: (216, 29)\n"
     ]
    },
    {
     "data": {
      "image/png": "[encoded data removed]",
      "text/plain": [
       "<Figure size 600x400 with 1 Axes>"
      ]
     },
     "metadata": {},
     "output_type": "display_data"
    }
   ],
   "source": [
    "# ──────────────────────────────────────────────────────────────\n",
    "# Cell 10  ▸  PCA on the *scaled* train / test matrices (no overwrites)\n",
    "# -----------------------------------------------------------------\n",
    "#  • Uses the already‑standardised X_train and X_test from Cell 8\n",
    "#  • Fits PCA *only* on the training data, then applies to the test set\n",
    "#  • Leaves the original X_train / X_test unchanged; saves new versions\n",
    "#    as X_train_pca / X_test_pca.\n",
    "# -----------------------------------------------------------------\n",
    "import numpy as np, pandas as pd, matplotlib.pyplot as plt\n",
    "from sklearn.decomposition import PCA\n",
    "\n",
    "# 1️⃣  Fit PCA on the scaled training matrix -------------------------------\n",
    "pca_full = PCA(n_components=None, random_state=42)\n",
    "pca_full.fit(X_train)                     # X_train is already z‑scored\n",
    "\n",
    "pve      = pd.Series(pca_full.explained_variance_ratio_,\n",
    "                     index=np.arange(1, len(pca_full.components_)+1),\n",
    "                     name='PVE')\n",
    "cum_pve  = pve.cumsum()\n",
    "\n",
    "# 2️⃣  Headline variance numbers ------------------------------------------\n",
    "n90 = cum_pve.searchsorted(0.90) + 1      # PCs to reach ≥90 %\n",
    "n95 = cum_pve.searchsorted(0.95) + 1      # PCs to reach ≥95 %\n",
    "print(f\"First PC explains      : {pve.iloc[0]:.2%}\")\n",
    "print(f\"{n90} components ≥90 % variance\")\n",
    "print(f\"{n95} components ≥95 % variance\")\n",
    "\n",
    "# Choose a balanced dimensionality (≈90 % variance)\n",
    "n_keep = n90\n",
    "\n",
    "# 3️⃣  Re‑fit PCA with n_keep components and transform sets ---------------\n",
    "pca = PCA(n_components=n_keep, random_state=42)\n",
    "X_train_pca = pd.DataFrame(pca.fit_transform(X_train),\n",
    "                           index=X_train.index)\n",
    "X_test_pca  = pd.DataFrame(pca.transform(X_test),\n",
    "                           index=X_test.index)\n",
    "\n",
    "print(f\"Shapes  →  X_train_pca: {X_train_pca.shape} | X_test_pca: {X_test_pca.shape}\")\n",
    "\n",
    "# 4️⃣  Quick visual: cumulative variance curve ----------------------------\n",
    "plt.figure(figsize=(6,4))\n",
    "cum_pve.plot(lw=2)\n",
    "plt.axvline(n_keep, ls='--', color='red', label=f'{n_keep} PCs (≈90 %)')\n",
    "plt.axhline(0.90, ls='--', color='grey')\n",
    "plt.axhline(0.95, ls='--', color='grey')\n",
    "plt.xlabel('Number of components kept')\n",
    "plt.ylabel('Cumulative variance explained')\n",
    "plt.title('PCA – cumulative variance (train set)')\n",
    "plt.legend()\n",
    "plt.tight_layout()\n",
    "plt.show()\n"
   ]
  },
  {
   "cell_type": "code",
   "execution_count": 14,
   "id": "67d41f10-3c66-4a9b-93c6-bba510acddf3",
   "metadata": {},
   "outputs": [],
   "source": [
    "X_train_pca.to_csv('X_train_pca.csv', index=False)\n",
    "X_test_pca .to_csv('X_test_pca.csv',  index=False)"
   ]
  }
 ],
 "metadata": {
  "kernelspec": {
   "display_name": "Python 3 (ipykernel)",
   "language": "python",
   "name": "python3"
  },
  "language_info": {
   "codemirror_mode": {
    "name": "ipython",
    "version": 3
   },
   "file_extension": ".py",
   "mimetype": "text/x-python",
   "name": "python",
   "nbconvert_exporter": "python",
   "pygments_lexer": "ipython3",
   "version": "3.11.11"
  }
 },
 "nbformat": 4,
 "nbformat_minor": 5
}
